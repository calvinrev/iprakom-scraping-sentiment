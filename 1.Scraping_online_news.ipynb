{
 "cells": [
  {
   "cell_type": "code",
   "execution_count": 105,
   "id": "ecadb752",
   "metadata": {},
   "outputs": [],
   "source": [
    "import requests\n",
    "import pandas as pd\n",
    "from bs4 import BeautifulSoup"
   ]
  },
  {
   "cell_type": "code",
   "execution_count": 107,
   "id": "7a9de9ec",
   "metadata": {},
   "outputs": [],
   "source": [
    "# URL artikel yang akan di-scrape\n",
    "url = 'https://www.tempo.co/ekonomi/seknas-fitra-makan-bergizi-gratis-belum-dongkrak-pertumbuhan-ekonomi-1533866'\n",
    "\n",
    "# Mengirim permintaan HTTP ke URL\n",
    "response = requests.get(url)\n",
    "soup = BeautifulSoup(response.text, 'html.parser')\n",
    "\n",
    "# Menyimpan hasil scraping di dictionary\n",
    "hasil = {}"
   ]
  },
  {
   "cell_type": "code",
   "execution_count": null,
   "id": "5c44c547",
   "metadata": {},
   "outputs": [
    {
     "name": "stdout",
     "output_type": "stream",
     "text": [
      "Judul: Seknas Fitra: Makan Bergizi Gratis Belum Dongkrak Pertumbuhan Ekonomi\n",
      "\n",
      "Sub_judul: Karena memaksakan Makan Bergizi Gratis pemerintah berpeluang mengeliminasi program-program prioritas lain yang tak kalah penting.\n",
      "\n",
      "Tanggal: 24 Mei 2025\n",
      "\n",
      "Jam: 17.24 WIB\n",
      "\n",
      "Kategori: Bisnis\n",
      "\n",
      "Isi: TEMPO.CO,Jakarta-Sekretariat Nasional Forum Indonesia untuk Transparansi Anggaran (Seknas Fitra) mengkritik programMakan Bergizi Gratis(MBG) yang diproyeksikan menelan biaya hingga Rp 217,8 triliun. Dengan anggaran sebesar itu, program ini dinilai belum mampu mendorong pertumbuhan ekonomi yang stagnan di angka 4,87 persen pada kuartal I 2025.\"Program MBG yang digadang akan memberikan multiplier effect pada sektor UMKM, petani, peternak dan nelayan justru belum dapat mendongkrak pertumbuhan ekonomi,\" ujar Sekretaris Jenderal Seknas Fitra, Misbah Hasan, dalam diskusi yang disiarkan secara daring, Jumat, 23 Mei 2025.\n",
      "\n",
      "Misbah menilai pemerintah perlu legawa mengakui masih banyak persoalan dalam pelaksanaan program ini. Dengan pengakuan itu, pemerintah bisa segera melakukan evaluasi dan perbaikan, bahkan menghentikan program jika terbukti tidak efektif. Apalagi menurutnya program ini sudah mengambil porsi terbesar dalam struktur belanja Anggaran Pendapatan dan Belanja Negara (APBN) 2026.\n",
      "\n",
      "Ia menyebut MBG sebagai kebijakan yang 'jauh panggang di atas api dari prinsip produktif'. Alih-alih memberi dampak nyata, beban anggaran yang besar justru mempersempit ruang fiskal pemerintah.\n",
      "\n",
      "Menurut Misbah, karena terlalu dipaksakan, program MBG berpotensi mengorbankan program-program prioritas lain yang tak kalah penting seperti pembangunan infrastruktur, upaya mitigasi perubahan iklim, dan layanan dasar bagi masyarakat.\n",
      "\n",
      "Ia juga menyoroti indikasi pemborosan anggaran. Dalam Kerangka Ekonomi Makro dan Pokok-Pokok Kebijakan Fiskal (KEM-PPKF) 2026, pemerintah semestinya mendorong efisiensi dan peningkatan belanja produktif. Semangat itu telah ditegaskan dalam Instruksi Presiden Nomor 1 Tahun 2025, namun implementasi kebijakan belanja justru belum sepenuhnya sejalan dengan prinsip produktif, efektif, dan efisien.\n",
      "\n"
     ]
    }
   ],
   "source": [
    "# Mendapatkan judul berita\n",
    "judul = soup.find('h1', class_='text-[26px] font-bold leading-[122%] text-neutral-1200')\n",
    "hasil['judul'] = judul.get_text(strip=True) if judul else 'Tidak ditemukan'\n",
    "\n",
    "# Mendapatkan sub-judul berita\n",
    "sub_judul = soup.find('div', class_='font-roboserif leading-[156%] text-neutral-1100')\n",
    "hasil['sub_judul'] = sub_judul.get_text(strip=True) if sub_judul else 'Tidak ditemukan'\n",
    "\n",
    "# Mendapatkan isi berita\n",
    "isi_paragraf = []\n",
    "isi_berita = soup.find_all('div', id='content-wrapper', class_='max-lg:container xl')\n",
    "\n",
    "for i in isi_berita:\n",
    "    paragraf = i.find_all('p')\n",
    "    for p in paragraf:\n",
    "        teks = p.get_text(strip=True)\n",
    "        if teks:  #menambahkan teks bila ada\n",
    "            isi_paragraf.append(teks)\n",
    "ringkasan = '\\n\\n'.join(isi_paragraf)\n",
    "hasil['isi'] = ringkasan if ringkasan else 'Tidak ditemukan'\n",
    "\n",
    "\n",
    "# Mendapatkan tanggal publikasi\n",
    "tanggal_publikasi = soup.find('p', class_='text-neutral-900 text-sm').get_text(strip=True)\n",
    "if isinstance(tanggal_publikasi, str):\n",
    "    tanggal, jam = [part.strip() for part in upload.split('|')]\n",
    "hasil['tanggal'] = tanggal if tanggal else 'Tidak ditemukan'\n",
    "hasil['jam'] = jam if jam else 'Tidak ditemukan'\n",
    "\n",
    "# Mendapatkan kategori berita\n",
    "kategori = soup.find('span', class_='text-sm font-medium text-primary-main')\n",
    "hasil['kategori'] = kategori.get_text(strip=True) if kategori else 'Tidak ditemukan' \n",
    "\n",
    "# Menampilkan hasil dari dictionary (kat = kategori, res = result)\n",
    "for kat, res in hasil.items():\n",
    "    print(f\"{kat.capitalize()}: {res}\\n\")"
   ]
  },
  {
   "cell_type": "markdown",
   "id": "9e69914a",
   "metadata": {},
   "source": [
    "# Tidy up with function"
   ]
  },
  {
   "cell_type": "code",
   "execution_count": null,
   "id": "0b3bb7b1",
   "metadata": {},
   "outputs": [],
   "source": [
    "import requests\n",
    "from bs4 import BeautifulSoup\n",
    "import pandas as pd\n",
    "\n",
    "def scrape_tempo(url) -> str:\n",
    "    # Inisialisasi dictionary hasil\n",
    "    hasil = {}\n",
    "\n",
    "    try:\n",
    "        response = requests.get(url)\n",
    "        soup = BeautifulSoup(response.text, 'html.parser')\n",
    "\n",
    "        # Judul\n",
    "        judul = soup.find('h1', class_='text-[26px] font-bold leading-[122%] text-neutral-1200')\n",
    "        hasil['judul'] = judul.get_text(strip=True) if judul else 'Tidak ditemukan'\n",
    "\n",
    "        # Sub judul\n",
    "        sub_judul = soup.find('div', class_='font-roboserif leading-[156%] text-neutral-1100')\n",
    "        hasil['sub_judul'] = sub_judul.get_text(strip=True) if sub_judul else 'Tidak ditemukan'\n",
    "\n",
    "        # Isi berita\n",
    "        isi_paragraf = []\n",
    "        isi_berita = soup.find_all('div', id='content-wrapper', class_='max-lg:container xl')\n",
    "\n",
    "        for i in isi_berita:\n",
    "            paragraf = i.find_all('p')\n",
    "            for p in paragraf:\n",
    "                teks = p.get_text(strip=True)\n",
    "                if teks:  #menambahkan teks bila ada\n",
    "                    isi_paragraf.append(teks)\n",
    "        ringkasan = '\\n\\n'.join(isi_paragraf)\n",
    "        hasil['isi'] = ringkasan if ringkasan else 'Tidak ditemukan'\n",
    "\n",
    "        # Tanggal & Jam publikasi\n",
    "        tanggal_publikasi = soup.find('p', class_='text-neutral-900 text-sm')\n",
    "        if tanggal_publikasi:\n",
    "            waktu = tanggal_publikasi.get_text(strip=True)\n",
    "            if '|' in waktu:\n",
    "                tanggal, jam = [part.strip() for part in waktu.split('|')]\n",
    "                hasil['tanggal'] = tanggal\n",
    "                hasil['jam'] = jam\n",
    "            else:\n",
    "                hasil['tanggal'] = waktu\n",
    "                hasil['jam'] = 'Tidak ditemukan'\n",
    "        else:\n",
    "            hasil['tanggal'] = 'Tidak ditemukan'\n",
    "            hasil['jam'] = 'Tidak ditemukan'\n",
    "\n",
    "        # Kategori\n",
    "        kategori = soup.find('span', class_='text-sm font-medium text-primary-main')\n",
    "        hasil['kategori'] = kategori.get_text(strip=True) if kategori else 'Tidak ditemukan'\n",
    "\n",
    "    except Exception as e:\n",
    "        print(f\"Terjadi kesalahan saat scraping: {e}\")\n",
    "        return None\n",
    "\n",
    "    # Kembalikan juga sebagai DataFrame\n",
    "    df = pd.DataFrame([hasil])\n",
    "    return df"
   ]
  },
  {
   "cell_type": "code",
   "execution_count": 144,
   "id": "0a04d85e",
   "metadata": {},
   "outputs": [
    {
     "data": {
      "text/html": [
       "<div>\n",
       "<style scoped>\n",
       "    .dataframe tbody tr th:only-of-type {\n",
       "        vertical-align: middle;\n",
       "    }\n",
       "\n",
       "    .dataframe tbody tr th {\n",
       "        vertical-align: top;\n",
       "    }\n",
       "\n",
       "    .dataframe thead th {\n",
       "        text-align: right;\n",
       "    }\n",
       "</style>\n",
       "<table border=\"1\" class=\"dataframe\">\n",
       "  <thead>\n",
       "    <tr style=\"text-align: right;\">\n",
       "      <th></th>\n",
       "      <th>judul</th>\n",
       "      <th>sub_judul</th>\n",
       "      <th>isi</th>\n",
       "      <th>tanggal</th>\n",
       "      <th>jam</th>\n",
       "      <th>kategori</th>\n",
       "    </tr>\n",
       "  </thead>\n",
       "  <tbody>\n",
       "    <tr>\n",
       "      <th>0</th>\n",
       "      <td>Potensi Masalah dari Rencana Pemerintah Ubah L...</td>\n",
       "      <td>Rencana ini berpotensi melanggar hak asasi par...</td>\n",
       "      <td>TEMPO.CO,Jakarta- Menteri Perumahan dan Kawasa...</td>\n",
       "      <td>24 Mei 2025</td>\n",
       "      <td>21.00 WIB</td>\n",
       "      <td>Bisnis</td>\n",
       "    </tr>\n",
       "  </tbody>\n",
       "</table>\n",
       "</div>"
      ],
      "text/plain": [
       "                                               judul  \\\n",
       "0  Potensi Masalah dari Rencana Pemerintah Ubah L...   \n",
       "\n",
       "                                           sub_judul  \\\n",
       "0  Rencana ini berpotensi melanggar hak asasi par...   \n",
       "\n",
       "                                                 isi      tanggal        jam  \\\n",
       "0  TEMPO.CO,Jakarta- Menteri Perumahan dan Kawasa...  24 Mei 2025  21.00 WIB   \n",
       "\n",
       "  kategori  \n",
       "0   Bisnis  "
      ]
     },
     "execution_count": 144,
     "metadata": {},
     "output_type": "execute_result"
    }
   ],
   "source": [
    "url = 'https://www.tempo.co/ekonomi/potensi-masalah-dari-rencana-pemerintah-ubah-lapas-jadi-perumahan-1533913'\n",
    "df_hasil = scrape_tempo(url)\n",
    "df_hasil"
   ]
  },
  {
   "cell_type": "code",
   "execution_count": null,
   "id": "54c6643f",
   "metadata": {},
   "outputs": [],
   "source": [
    "# extract file ke csv\n",
    "df_hasil.to_csv('tempo_artikel.csv', index=False, encoding='utf-8-sig')"
   ]
  },
  {
   "cell_type": "code",
   "execution_count": null,
   "id": "3ef4e5f6",
   "metadata": {},
   "outputs": [],
   "source": []
  }
 ],
 "metadata": {
  "kernelspec": {
   "display_name": "Python 3",
   "language": "python",
   "name": "python3"
  },
  "language_info": {
   "codemirror_mode": {
    "name": "ipython",
    "version": 3
   },
   "file_extension": ".py",
   "mimetype": "text/x-python",
   "name": "python",
   "nbconvert_exporter": "python",
   "pygments_lexer": "ipython3",
   "version": "3.12.10"
  }
 },
 "nbformat": 4,
 "nbformat_minor": 5
}
