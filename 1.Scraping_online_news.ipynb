{
 "cells": [
  {
   "cell_type": "markdown",
   "id": "3fabefde",
   "metadata": {},
   "source": [
    "# Requirement"
   ]
  },
  {
   "cell_type": "code",
   "execution_count": 1,
   "id": "cba136f2",
   "metadata": {},
   "outputs": [
    {
     "name": "stdout",
     "output_type": "stream",
     "text": [
      "Defaulting to user installation because normal site-packages is not writeable\n",
      "Requirement already satisfied: beautifulsoup4==4.12.3 in c:\\users\\user\\appdata\\local\\packages\\pythonsoftwarefoundation.python.3.12_qbz5n2kfra8p0\\localcache\\local-packages\\python312\\site-packages (from -r requirements.txt (line 1)) (4.12.3)\n",
      "Requirement already satisfied: numpy==1.26.4 in c:\\users\\user\\appdata\\local\\packages\\pythonsoftwarefoundation.python.3.12_qbz5n2kfra8p0\\localcache\\local-packages\\python312\\site-packages (from -r requirements.txt (line 2)) (1.26.4)\n",
      "Requirement already satisfied: pandas==2.2.2 in c:\\users\\user\\appdata\\local\\packages\\pythonsoftwarefoundation.python.3.12_qbz5n2kfra8p0\\localcache\\local-packages\\python312\\site-packages (from -r requirements.txt (line 3)) (2.2.2)\n",
      "Requirement already satisfied: requests==2.31.0 in c:\\users\\user\\appdata\\local\\packages\\pythonsoftwarefoundation.python.3.12_qbz5n2kfra8p0\\localcache\\local-packages\\python312\\site-packages (from -r requirements.txt (line 4)) (2.31.0)\n",
      "Requirement already satisfied: selenium==4.21.0 in c:\\users\\user\\appdata\\local\\packages\\pythonsoftwarefoundation.python.3.12_qbz5n2kfra8p0\\localcache\\local-packages\\python312\\site-packages (from -r requirements.txt (line 5)) (4.21.0)\n",
      "Requirement already satisfied: tqdm==4.66.4 in c:\\users\\user\\appdata\\local\\packages\\pythonsoftwarefoundation.python.3.12_qbz5n2kfra8p0\\localcache\\local-packages\\python312\\site-packages (from -r requirements.txt (line 6)) (4.66.4)\n",
      "Requirement already satisfied: urllib3==1.26.20 in c:\\users\\user\\appdata\\local\\packages\\pythonsoftwarefoundation.python.3.12_qbz5n2kfra8p0\\localcache\\local-packages\\python312\\site-packages (from -r requirements.txt (line 7)) (1.26.20)\n",
      "Requirement already satisfied: soupsieve>1.2 in c:\\users\\user\\appdata\\local\\packages\\pythonsoftwarefoundation.python.3.12_qbz5n2kfra8p0\\localcache\\local-packages\\python312\\site-packages (from beautifulsoup4==4.12.3->-r requirements.txt (line 1)) (2.5)\n",
      "Requirement already satisfied: python-dateutil>=2.8.2 in c:\\users\\user\\appdata\\local\\packages\\pythonsoftwarefoundation.python.3.12_qbz5n2kfra8p0\\localcache\\local-packages\\python312\\site-packages (from pandas==2.2.2->-r requirements.txt (line 3)) (2.9.0.post0)\n",
      "Requirement already satisfied: pytz>=2020.1 in c:\\users\\user\\appdata\\local\\packages\\pythonsoftwarefoundation.python.3.12_qbz5n2kfra8p0\\localcache\\local-packages\\python312\\site-packages (from pandas==2.2.2->-r requirements.txt (line 3)) (2024.1)\n",
      "Requirement already satisfied: tzdata>=2022.7 in c:\\users\\user\\appdata\\local\\packages\\pythonsoftwarefoundation.python.3.12_qbz5n2kfra8p0\\localcache\\local-packages\\python312\\site-packages (from pandas==2.2.2->-r requirements.txt (line 3)) (2024.1)\n",
      "Requirement already satisfied: charset-normalizer<4,>=2 in c:\\users\\user\\appdata\\local\\packages\\pythonsoftwarefoundation.python.3.12_qbz5n2kfra8p0\\localcache\\local-packages\\python312\\site-packages (from requests==2.31.0->-r requirements.txt (line 4)) (3.3.2)\n",
      "Requirement already satisfied: idna<4,>=2.5 in c:\\users\\user\\appdata\\local\\packages\\pythonsoftwarefoundation.python.3.12_qbz5n2kfra8p0\\localcache\\local-packages\\python312\\site-packages (from requests==2.31.0->-r requirements.txt (line 4)) (3.6)\n",
      "Requirement already satisfied: certifi>=2017.4.17 in c:\\users\\user\\appdata\\local\\packages\\pythonsoftwarefoundation.python.3.12_qbz5n2kfra8p0\\localcache\\local-packages\\python312\\site-packages (from requests==2.31.0->-r requirements.txt (line 4)) (2024.2.2)\n",
      "Requirement already satisfied: trio~=0.17 in c:\\users\\user\\appdata\\local\\packages\\pythonsoftwarefoundation.python.3.12_qbz5n2kfra8p0\\localcache\\local-packages\\python312\\site-packages (from selenium==4.21.0->-r requirements.txt (line 5)) (0.25.1)\n",
      "Requirement already satisfied: trio-websocket~=0.9 in c:\\users\\user\\appdata\\local\\packages\\pythonsoftwarefoundation.python.3.12_qbz5n2kfra8p0\\localcache\\local-packages\\python312\\site-packages (from selenium==4.21.0->-r requirements.txt (line 5)) (0.11.1)\n",
      "Requirement already satisfied: typing_extensions>=4.9.0 in c:\\users\\user\\appdata\\local\\packages\\pythonsoftwarefoundation.python.3.12_qbz5n2kfra8p0\\localcache\\local-packages\\python312\\site-packages (from selenium==4.21.0->-r requirements.txt (line 5)) (4.12.2)\n",
      "Requirement already satisfied: colorama in c:\\users\\user\\appdata\\local\\packages\\pythonsoftwarefoundation.python.3.12_qbz5n2kfra8p0\\localcache\\local-packages\\python312\\site-packages (from tqdm==4.66.4->-r requirements.txt (line 6)) (0.4.6)\n",
      "Requirement already satisfied: six>=1.5 in c:\\users\\user\\appdata\\local\\packages\\pythonsoftwarefoundation.python.3.12_qbz5n2kfra8p0\\localcache\\local-packages\\python312\\site-packages (from python-dateutil>=2.8.2->pandas==2.2.2->-r requirements.txt (line 3)) (1.16.0)\n",
      "Requirement already satisfied: attrs>=23.2.0 in c:\\users\\user\\appdata\\local\\packages\\pythonsoftwarefoundation.python.3.12_qbz5n2kfra8p0\\localcache\\local-packages\\python312\\site-packages (from trio~=0.17->selenium==4.21.0->-r requirements.txt (line 5)) (23.2.0)\n",
      "Requirement already satisfied: sortedcontainers in c:\\users\\user\\appdata\\local\\packages\\pythonsoftwarefoundation.python.3.12_qbz5n2kfra8p0\\localcache\\local-packages\\python312\\site-packages (from trio~=0.17->selenium==4.21.0->-r requirements.txt (line 5)) (2.4.0)\n",
      "Requirement already satisfied: outcome in c:\\users\\user\\appdata\\local\\packages\\pythonsoftwarefoundation.python.3.12_qbz5n2kfra8p0\\localcache\\local-packages\\python312\\site-packages (from trio~=0.17->selenium==4.21.0->-r requirements.txt (line 5)) (1.3.0.post0)\n",
      "Requirement already satisfied: sniffio>=1.3.0 in c:\\users\\user\\appdata\\local\\packages\\pythonsoftwarefoundation.python.3.12_qbz5n2kfra8p0\\localcache\\local-packages\\python312\\site-packages (from trio~=0.17->selenium==4.21.0->-r requirements.txt (line 5)) (1.3.1)\n",
      "Requirement already satisfied: cffi>=1.14 in c:\\users\\user\\appdata\\local\\packages\\pythonsoftwarefoundation.python.3.12_qbz5n2kfra8p0\\localcache\\local-packages\\python312\\site-packages (from trio~=0.17->selenium==4.21.0->-r requirements.txt (line 5)) (1.16.0)\n",
      "Requirement already satisfied: wsproto>=0.14 in c:\\users\\user\\appdata\\local\\packages\\pythonsoftwarefoundation.python.3.12_qbz5n2kfra8p0\\localcache\\local-packages\\python312\\site-packages (from trio-websocket~=0.9->selenium==4.21.0->-r requirements.txt (line 5)) (1.2.0)\n",
      "Requirement already satisfied: PySocks!=1.5.7,<2.0,>=1.5.6 in c:\\users\\user\\appdata\\local\\packages\\pythonsoftwarefoundation.python.3.12_qbz5n2kfra8p0\\localcache\\local-packages\\python312\\site-packages (from urllib3[socks]<3,>=1.26->selenium==4.21.0->-r requirements.txt (line 5)) (1.7.1)\n",
      "Requirement already satisfied: pycparser in c:\\users\\user\\appdata\\local\\packages\\pythonsoftwarefoundation.python.3.12_qbz5n2kfra8p0\\localcache\\local-packages\\python312\\site-packages (from cffi>=1.14->trio~=0.17->selenium==4.21.0->-r requirements.txt (line 5)) (2.21)\n",
      "Requirement already satisfied: h11<1,>=0.9.0 in c:\\users\\user\\appdata\\local\\packages\\pythonsoftwarefoundation.python.3.12_qbz5n2kfra8p0\\localcache\\local-packages\\python312\\site-packages (from wsproto>=0.14->trio-websocket~=0.9->selenium==4.21.0->-r requirements.txt (line 5)) (0.14.0)\n"
     ]
    },
    {
     "name": "stderr",
     "output_type": "stream",
     "text": [
      "\n",
      "[notice] A new release of pip is available: 25.0.1 -> 25.1.1\n",
      "[notice] To update, run: C:\\Users\\user\\AppData\\Local\\Microsoft\\WindowsApps\\PythonSoftwareFoundation.Python.3.12_qbz5n2kfra8p0\\python.exe -m pip install --upgrade pip\n"
     ]
    }
   ],
   "source": [
    "## jalankan ini dahulu sebelum running\n",
    "!pip install -r requirements.txt"
   ]
  },
  {
   "cell_type": "markdown",
   "id": "6a1cc8f7",
   "metadata": {},
   "source": [
    "# A. Case: Detik"
   ]
  },
  {
   "cell_type": "code",
   "execution_count": 2,
   "id": "6f9df462",
   "metadata": {},
   "outputs": [],
   "source": [
    "## global\n",
    "import requests\n",
    "import pandas as pd\n",
    "import numpy as np\n",
    "from bs4 import BeautifulSoup #scraping web statis\n",
    "import time\n",
    "from tqdm import tqdm #info progress\n",
    "\n",
    "## selenium, scraping web dinamis\n",
    "from selenium import webdriver\n",
    "from selenium.webdriver.chrome.service import Service\n",
    "from selenium.webdriver.chrome.options import Options\n",
    "from webdriver_manager.chrome import ChromeDriverManager\n",
    "from urllib.parse import quote #parsing string \"spasi\" menjadi \"%20\""
   ]
  },
  {
   "cell_type": "code",
   "execution_count": 3,
   "id": "3ac2ca3d",
   "metadata": {},
   "outputs": [
    {
     "name": "stdout",
     "output_type": "stream",
     "text": [
      "200\n"
     ]
    }
   ],
   "source": [
    "## check if there is a response, if it's 200, we are good to go\n",
    "s = requests.Session()\n",
    "url = 'https://www.detik.com'\n",
    "response = s.get(url)\n",
    "print(response.status_code)"
   ]
  },
  {
   "cell_type": "markdown",
   "id": "1cb763d1",
   "metadata": {},
   "source": [
    "### A1. Scraping satu artikel"
   ]
  },
  {
   "cell_type": "code",
   "execution_count": 4,
   "id": "16075b44",
   "metadata": {},
   "outputs": [],
   "source": [
    "## fungsi melakukan scraping satu artikel\n",
    "def scrape_detik_satu(url: str) -> pd.DataFrame:\n",
    "    response = requests.get(url)\n",
    "    soup = BeautifulSoup(response.content, 'html.parser')\n",
    "\n",
    "    # Ambil teks tanggal\n",
    "    tanggal_utuh = soup.find('div', class_='detail__date')\n",
    "    if tanggal_utuh:\n",
    "        waktu = tanggal_utuh.get_text(strip=True)\n",
    "        try:\n",
    "            # Pisahkan jadi hari, tanggal, dan jam\n",
    "            hari, sisanya = waktu.split(',', 1)\n",
    "            sisanya = sisanya.strip()\n",
    "            parts = sisanya.rsplit(' ', 2)\n",
    "            tanggal_bersih = parts[0]\n",
    "            jam = f\"{parts[1]} {parts[2]}\"\n",
    "        except Exception:\n",
    "            hari = np.nan\n",
    "            tanggal_bersih = np.nan\n",
    "            jam = np.nan\n",
    "    else:\n",
    "        hari = np.nan\n",
    "        tanggal_bersih = np.nan\n",
    "        jam = np.nan\n",
    "\n",
    "    hasil = {\n",
    "        \"judul\": soup.find('h1').get_text(strip=True) if soup.find('h1') else np.nan,\n",
    "        \"isi\": \"\\n\\n\".join(p.get_text(strip=True) for p in soup.find_all('p')),\n",
    "        \"hari\": hari,\n",
    "        \"tanggal\": tanggal_bersih,\n",
    "        \"jam\": jam,\n",
    "        \"kategori\": soup.find('div', class_=\"page__breadcrumb\").get_text(strip=True) if soup.find('div', class_=\"page__breadcrumb\") else np.nan,\n",
    "        \"link\": url\n",
    "    }\n",
    "\n",
    "    df = pd.DataFrame([hasil])\n",
    "    return df"
   ]
  },
  {
   "cell_type": "code",
   "execution_count": 5,
   "id": "52786d34",
   "metadata": {},
   "outputs": [
    {
     "data": {
      "text/html": [
       "<div>\n",
       "<style scoped>\n",
       "    .dataframe tbody tr th:only-of-type {\n",
       "        vertical-align: middle;\n",
       "    }\n",
       "\n",
       "    .dataframe tbody tr th {\n",
       "        vertical-align: top;\n",
       "    }\n",
       "\n",
       "    .dataframe thead th {\n",
       "        text-align: right;\n",
       "    }\n",
       "</style>\n",
       "<table border=\"1\" class=\"dataframe\">\n",
       "  <thead>\n",
       "    <tr style=\"text-align: right;\">\n",
       "      <th></th>\n",
       "      <th>judul</th>\n",
       "      <th>isi</th>\n",
       "      <th>hari</th>\n",
       "      <th>tanggal</th>\n",
       "      <th>jam</th>\n",
       "      <th>kategori</th>\n",
       "      <th>link</th>\n",
       "    </tr>\n",
       "  </thead>\n",
       "  <tbody>\n",
       "    <tr>\n",
       "      <th>0</th>\n",
       "      <td>Joe Biden Disebut Kena Kanker Prostat Agresif ...</td>\n",
       "      <td>Segera setelah mantan presiden AS Joe Biden me...</td>\n",
       "      <td>Senin</td>\n",
       "      <td>26 Mei  2025</td>\n",
       "      <td>13:15 WIB</td>\n",
       "      <td>detikHealthBerita Detikhealth</td>\n",
       "      <td>https://health.detik.com/berita-detikhealth/d-...</td>\n",
       "    </tr>\n",
       "  </tbody>\n",
       "</table>\n",
       "</div>"
      ],
      "text/plain": [
       "                                               judul  \\\n",
       "0  Joe Biden Disebut Kena Kanker Prostat Agresif ...   \n",
       "\n",
       "                                                 isi   hari       tanggal  \\\n",
       "0  Segera setelah mantan presiden AS Joe Biden me...  Senin  26 Mei  2025   \n",
       "\n",
       "         jam                       kategori  \\\n",
       "0  13:15 WIB  detikHealthBerita Detikhealth   \n",
       "\n",
       "                                                link  \n",
       "0  https://health.detik.com/berita-detikhealth/d-...  "
      ]
     },
     "execution_count": 5,
     "metadata": {},
     "output_type": "execute_result"
    }
   ],
   "source": [
    "scrape_detik_satu(\"https://health.detik.com/berita-detikhealth/d-7933044/joe-biden-disebut-kena-kanker-prostat-agresif-gegara-vaksin-covid-19-ini-faktanya\")"
   ]
  },
  {
   "cell_type": "markdown",
   "id": "65fefcf9",
   "metadata": {},
   "source": [
    "### A2. Crawling URLs dengan memasukkan keyword/query\n",
    "```https://www.detik.com/search/searchall?query=makan%20bergizi%20gratis&page=5&result_type=relevansi``` -> pakai modulo 20\n",
    "\n",
    "```https://www.detik.com/search/searchall?query={kata_kunci}&page={halaman}&result_type=relevansi```"
   ]
  },
  {
   "cell_type": "code",
   "execution_count": 6,
   "id": "a168c65a",
   "metadata": {},
   "outputs": [],
   "source": [
    "url = f\"https://www.detik.com/search/searchall?query=makan%20bergizi&page=1&result_type=relevansi\"\n",
    "response = requests.get(url)\n",
    "soup = BeautifulSoup(response.content, 'html.parser')\n",
    "time.sleep(1)"
   ]
  },
  {
   "cell_type": "code",
   "execution_count": 7,
   "id": "0208070e",
   "metadata": {},
   "outputs": [],
   "source": [
    "## fungsi untuk scraping artikel berdasarkan keyword yang diinputkan\n",
    "def scrape_detik_byquery(kata_kunci, halaman) -> pd.DataFrame:\n",
    "    # Parameter input\n",
    "    keyword = kata_kunci\n",
    "    max_pages = halaman\n",
    "    results = []\n",
    "\n",
    "    headers = {\n",
    "        'User-Agent': 'Mozilla/5.0 (Windows NT 10.0; Win64; x64) AppleWebKit/537.36 (KHTML, like Gecko) Chrome/125.0.0.0 Safari/537.36'\n",
    "    }\n",
    "\n",
    "    for page in tqdm(range(1, max_pages + 1)):\n",
    "        encoded_query = quote(keyword)\n",
    "        url = f\"https://www.detik.com/search/searchall?query={encoded_query}&page={page}&result_type=relevansi\"\n",
    "        try:\n",
    "            response = requests.get(url, headers=headers, timeout=10)\n",
    "            soup = BeautifulSoup(response.content, 'html.parser')\n",
    "            time.sleep(1)\n",
    "\n",
    "            beritas = soup.find_all('div', class_=\"media__text\")\n",
    "            for berita in beritas:\n",
    "                try:\n",
    "                    a = berita.find('a')\n",
    "                    d = berita.find('div', class_=\"media__desc\")\n",
    "                    t = berita.find('div', class_=\"media__date\")\n",
    "                    k = berita.find('h2', class_=\"media__subtitle\")\n",
    "\n",
    "                    results.append({\n",
    "                        \"judul\": a.text.strip() if a else np.nan,\n",
    "                        \"link\": a.get('href') if a else np.nan,\n",
    "                        \"desc\": d.text.strip() if d else np.nan,\n",
    "                        \"tanggal\": t.text.strip() if t else np.nan,\n",
    "                        \"kategori\": k.text.strip() if k else np.nan,\n",
    "                        \"keyword\": keyword\n",
    "                    })\n",
    "                except Exception as e:\n",
    "                    print(\"Skip 1 berita:\", e)\n",
    "        except Exception as e:\n",
    "            print(f\"Skip page {page}:\", e)\n",
    "\n",
    "    df = pd.DataFrame(results)\n",
    "    print(\"Selesai. Total berita:\", len(df))\n",
    "    return df"
   ]
  },
  {
   "cell_type": "code",
   "execution_count": 8,
   "id": "ae73e477",
   "metadata": {},
   "outputs": [
    {
     "name": "stderr",
     "output_type": "stream",
     "text": [
      "100%|██████████| 3/3 [00:08<00:00,  2.82s/it]"
     ]
    },
    {
     "name": "stdout",
     "output_type": "stream",
     "text": [
      "Selesai. Total berita: 36\n",
      "<class 'pandas.core.frame.DataFrame'>\n",
      "RangeIndex: 36 entries, 0 to 35\n",
      "Data columns (total 6 columns):\n",
      " #   Column    Non-Null Count  Dtype \n",
      "---  ------    --------------  ----- \n",
      " 0   judul     36 non-null     object\n",
      " 1   link      36 non-null     object\n",
      " 2   desc      30 non-null     object\n",
      " 3   tanggal   36 non-null     object\n",
      " 4   kategori  36 non-null     object\n",
      " 5   keyword   36 non-null     object\n",
      "dtypes: object(6)\n",
      "memory usage: 1.8+ KB\n"
     ]
    },
    {
     "name": "stderr",
     "output_type": "stream",
     "text": [
      "\n"
     ]
    }
   ],
   "source": [
    "df = scrape_detik_byquery(\"makan bergizi gratis\", 3)\n",
    "df.info()"
   ]
  },
  {
   "cell_type": "code",
   "execution_count": 9,
   "id": "46d9c7e1",
   "metadata": {},
   "outputs": [
    {
     "data": {
      "text/html": [
       "<div>\n",
       "<style scoped>\n",
       "    .dataframe tbody tr th:only-of-type {\n",
       "        vertical-align: middle;\n",
       "    }\n",
       "\n",
       "    .dataframe tbody tr th {\n",
       "        vertical-align: top;\n",
       "    }\n",
       "\n",
       "    .dataframe thead th {\n",
       "        text-align: right;\n",
       "    }\n",
       "</style>\n",
       "<table border=\"1\" class=\"dataframe\">\n",
       "  <thead>\n",
       "    <tr style=\"text-align: right;\">\n",
       "      <th></th>\n",
       "      <th>judul</th>\n",
       "      <th>link</th>\n",
       "      <th>desc</th>\n",
       "      <th>tanggal</th>\n",
       "      <th>kategori</th>\n",
       "      <th>keyword</th>\n",
       "    </tr>\n",
       "  </thead>\n",
       "  <tbody>\n",
       "    <tr>\n",
       "      <th>32</th>\n",
       "      <td>30.000 Sarjana Siap Kelola Program Makan Bergi...</td>\n",
       "      <td>https://finance.detik.com/berita-ekonomi-bisni...</td>\n",
       "      <td>Kepala BGN Dadan Hindayana mengatakan, 30.000 ...</td>\n",
       "      <td>Selasa, 08 Apr 2025 17:06 WIB</td>\n",
       "      <td>detikFinance</td>\n",
       "      <td>makan bergizi gratis</td>\n",
       "    </tr>\n",
       "    <tr>\n",
       "      <th>33</th>\n",
       "      <td>Pangkas Sana-sini demi Makan Bergizi Gratis</td>\n",
       "      <td>https://news.detik.com/x/detail/spotlight/2025...</td>\n",
       "      <td>Kebutuhan anggaran untuk mengeksekusi program ...</td>\n",
       "      <td>Selasa, 11 Feb 2025 19:07 WIB</td>\n",
       "      <td>detikNews</td>\n",
       "      <td>makan bergizi gratis</td>\n",
       "    </tr>\n",
       "    <tr>\n",
       "      <th>34</th>\n",
       "      <td>Makan Bergizi Gratis, Pendidikan, dan Pemajuan...</td>\n",
       "      <td>https://news.detik.com/kolom/d-7719399/makan-b...</td>\n",
       "      <td>Makan bergizi gratis meningkatkan kesehatan si...</td>\n",
       "      <td>Senin, 06 Jan 2025 13:30 WIB</td>\n",
       "      <td>detikNews</td>\n",
       "      <td>makan bergizi gratis</td>\n",
       "    </tr>\n",
       "    <tr>\n",
       "      <th>35</th>\n",
       "      <td>Makan Bergizi Gratis (Jangan) Bikin Miris</td>\n",
       "      <td>https://news.detik.com/kolom/d-7719323/makan-b...</td>\n",
       "      <td>Makan Bergizi Gratis merupakan program ciamik ...</td>\n",
       "      <td>Senin, 06 Jan 2025 12:48 WIB</td>\n",
       "      <td>detikNews</td>\n",
       "      <td>makan bergizi gratis</td>\n",
       "    </tr>\n",
       "  </tbody>\n",
       "</table>\n",
       "</div>"
      ],
      "text/plain": [
       "                                                judul  \\\n",
       "32  30.000 Sarjana Siap Kelola Program Makan Bergi...   \n",
       "33        Pangkas Sana-sini demi Makan Bergizi Gratis   \n",
       "34  Makan Bergizi Gratis, Pendidikan, dan Pemajuan...   \n",
       "35          Makan Bergizi Gratis (Jangan) Bikin Miris   \n",
       "\n",
       "                                                 link  \\\n",
       "32  https://finance.detik.com/berita-ekonomi-bisni...   \n",
       "33  https://news.detik.com/x/detail/spotlight/2025...   \n",
       "34  https://news.detik.com/kolom/d-7719399/makan-b...   \n",
       "35  https://news.detik.com/kolom/d-7719323/makan-b...   \n",
       "\n",
       "                                                 desc  \\\n",
       "32  Kepala BGN Dadan Hindayana mengatakan, 30.000 ...   \n",
       "33  Kebutuhan anggaran untuk mengeksekusi program ...   \n",
       "34  Makan bergizi gratis meningkatkan kesehatan si...   \n",
       "35  Makan Bergizi Gratis merupakan program ciamik ...   \n",
       "\n",
       "                          tanggal      kategori               keyword  \n",
       "32  Selasa, 08 Apr 2025 17:06 WIB  detikFinance  makan bergizi gratis  \n",
       "33  Selasa, 11 Feb 2025 19:07 WIB     detikNews  makan bergizi gratis  \n",
       "34   Senin, 06 Jan 2025 13:30 WIB     detikNews  makan bergizi gratis  \n",
       "35   Senin, 06 Jan 2025 12:48 WIB     detikNews  makan bergizi gratis  "
      ]
     },
     "execution_count": 9,
     "metadata": {},
     "output_type": "execute_result"
    }
   ],
   "source": [
    "df.tail(4)"
   ]
  },
  {
   "cell_type": "code",
   "execution_count": 10,
   "id": "4b860433",
   "metadata": {},
   "outputs": [
    {
     "name": "stdout",
     "output_type": "stream",
     "text": [
      "Scraping untuk keyword: makan bergizi gratis\n"
     ]
    },
    {
     "name": "stderr",
     "output_type": "stream",
     "text": [
      "100%|██████████| 2/2 [00:03<00:00,  1.92s/it]\n"
     ]
    },
    {
     "name": "stdout",
     "output_type": "stream",
     "text": [
      "Selesai. Total berita: 24\n",
      "Scraping untuk keyword: efisiensi anggaran\n"
     ]
    },
    {
     "name": "stderr",
     "output_type": "stream",
     "text": [
      "100%|██████████| 2/2 [00:05<00:00,  2.62s/it]\n"
     ]
    },
    {
     "name": "stdout",
     "output_type": "stream",
     "text": [
      "Selesai. Total berita: 24\n",
      "Scraping untuk keyword: CPNS 2025\n"
     ]
    },
    {
     "name": "stderr",
     "output_type": "stream",
     "text": [
      "100%|██████████| 2/2 [00:05<00:00,  2.55s/it]\n"
     ]
    },
    {
     "name": "stdout",
     "output_type": "stream",
     "text": [
      "Selesai. Total berita: 20\n",
      "Scraping untuk keyword: kemiskinan world bank\n"
     ]
    },
    {
     "name": "stderr",
     "output_type": "stream",
     "text": [
      "100%|██████████| 2/2 [00:05<00:00,  2.54s/it]"
     ]
    },
    {
     "name": "stdout",
     "output_type": "stream",
     "text": [
      "Selesai. Total berita: 20\n"
     ]
    },
    {
     "name": "stderr",
     "output_type": "stream",
     "text": [
      "\n"
     ]
    }
   ],
   "source": [
    "## looping list keyword\n",
    "\n",
    "# Daftar keyword yang ingin di-scrape\n",
    "list_keyword = [\n",
    "    \"makan bergizi gratis\",\n",
    "    \"efisiensi anggaran\",\n",
    "    \"CPNS 2025\",\n",
    "    \"kemiskinan world bank\"\n",
    "]\n",
    "\n",
    "# Set jumlah halaman yang ingin di-scrape per keyword\n",
    "halaman = 2\n",
    "\n",
    "# List untuk menyimpan semua DataFrame\n",
    "dfs = []\n",
    "\n",
    "for keyword in list_keyword:\n",
    "    print(f\"Scraping untuk keyword: {keyword}\")\n",
    "    df_keyword = scrape_detik_byquery(keyword, halaman)\n",
    "    dfs.append(df_keyword)\n",
    "\n",
    "# Gabungkan semua hasil\n",
    "df_final = pd.concat(dfs, ignore_index=True)"
   ]
  },
  {
   "cell_type": "code",
   "execution_count": 11,
   "id": "d81d3269",
   "metadata": {},
   "outputs": [
    {
     "name": "stdout",
     "output_type": "stream",
     "text": [
      "<class 'pandas.core.frame.DataFrame'>\n",
      "RangeIndex: 88 entries, 0 to 87\n",
      "Data columns (total 6 columns):\n",
      " #   Column    Non-Null Count  Dtype \n",
      "---  ------    --------------  ----- \n",
      " 0   judul     88 non-null     object\n",
      " 1   link      88 non-null     object\n",
      " 2   desc      80 non-null     object\n",
      " 3   tanggal   88 non-null     object\n",
      " 4   kategori  88 non-null     object\n",
      " 5   keyword   88 non-null     object\n",
      "dtypes: object(6)\n",
      "memory usage: 4.3+ KB\n"
     ]
    }
   ],
   "source": [
    "df_final.to_csv(\"./files/detik_links.csv\", index=False, encoding='utf-8-sig')\n",
    "df_final.info()"
   ]
  },
  {
   "cell_type": "markdown",
   "id": "64fcff88",
   "metadata": {},
   "source": [
    "### A3. Scraping artikel dari URLs yang telah diperoleh\n"
   ]
  },
  {
   "cell_type": "code",
   "execution_count": null,
   "id": "cc2eae6a",
   "metadata": {},
   "outputs": [],
   "source": [
    "def scrape_detik_dari_csv(path_csv: str) -> pd.DataFrame:\n",
    "    # Membaca CSV hasil scraping link\n",
    "    df_links = pd.read_csv(path_csv)\n",
    "\n",
    "    # Memastikan kolom 'link' ada\n",
    "    if 'link' not in df_links.columns:\n",
    "        raise ValueError(\"CSV tidak mengandung kolom 'link'.\")\n",
    "\n",
    "    hasil_semua = []\n",
    "    for i,row in tqdm(df_links.iterrows(), total=len(df_links)): #tuple (i,series)\n",
    "        url = row['link']\n",
    "        df_artikel = scrape_detik_satu(url) #memanggil dan menjalankan fungsi scrape_detik satu artikel\n",
    "        keyword = row['keyword']\n",
    "        if df_artikel is not None:\n",
    "            df_artikel['keyword'] = keyword\n",
    "            hasil_semua.append(df_artikel)\n",
    "\n",
    "    # Gabungkan semua DataFrame\n",
    "    if hasil_semua:\n",
    "        df_final = pd.concat(hasil_semua, ignore_index=True)\n",
    "        df_final.to_csv('./files/detik_semua_artikel_query.csv', index=False, encoding='utf-8-sig')\n",
    "        print(\"Selesai menyimpan semua artikel.\")\n",
    "        return df_final\n",
    "    else:\n",
    "        print(\"Tidak ada artikel yang berhasil di-scrape.\")\n",
    "        return pd.DataFrame()"
   ]
  },
  {
   "cell_type": "code",
   "execution_count": 13,
   "id": "535349bc",
   "metadata": {},
   "outputs": [
    {
     "name": "stderr",
     "output_type": "stream",
     "text": [
      "100%|██████████| 88/88 [03:02<00:00,  2.07s/it]"
     ]
    },
    {
     "name": "stdout",
     "output_type": "stream",
     "text": [
      "Selesai menyimpan semua artikel.\n"
     ]
    },
    {
     "name": "stderr",
     "output_type": "stream",
     "text": [
      "\n"
     ]
    },
    {
     "data": {
      "text/html": [
       "<div>\n",
       "<style scoped>\n",
       "    .dataframe tbody tr th:only-of-type {\n",
       "        vertical-align: middle;\n",
       "    }\n",
       "\n",
       "    .dataframe tbody tr th {\n",
       "        vertical-align: top;\n",
       "    }\n",
       "\n",
       "    .dataframe thead th {\n",
       "        text-align: right;\n",
       "    }\n",
       "</style>\n",
       "<table border=\"1\" class=\"dataframe\">\n",
       "  <thead>\n",
       "    <tr style=\"text-align: right;\">\n",
       "      <th></th>\n",
       "      <th>judul</th>\n",
       "      <th>isi</th>\n",
       "      <th>hari</th>\n",
       "      <th>tanggal</th>\n",
       "      <th>jam</th>\n",
       "      <th>kategori</th>\n",
       "      <th>link</th>\n",
       "      <th>keyword</th>\n",
       "    </tr>\n",
       "  </thead>\n",
       "  <tbody>\n",
       "    <tr>\n",
       "      <th>0</th>\n",
       "      <td>PCO: Pemerintah Siapkan Full Dana MBG, Kalau A...</td>\n",
       "      <td>Kepala Kantor Komunikasi Kepresidenan (PCO) Ha...</td>\n",
       "      <td>Senin</td>\n",
       "      <td>26 Mei  2025</td>\n",
       "      <td>15:09 WIB</td>\n",
       "      <td>detikNewsBerita</td>\n",
       "      <td>https://news.detik.com/berita/d-7933300/pco-pe...</td>\n",
       "      <td>makan bergizi gratis</td>\n",
       "    </tr>\n",
       "    <tr>\n",
       "      <th>1</th>\n",
       "      <td>Menteri PU Minta ke Erick Agar CSR 3 BUMN Kary...</td>\n",
       "      <td>Menteri Pekerjaan Umum (PU) Dody Hanggodo memi...</td>\n",
       "      <td>Senin</td>\n",
       "      <td>26 Mei  2025</td>\n",
       "      <td>14:20 WIB</td>\n",
       "      <td>detikFinanceInfrastruktur</td>\n",
       "      <td>https://finance.detik.com/infrastruktur/d-7933...</td>\n",
       "      <td>makan bergizi gratis</td>\n",
       "    </tr>\n",
       "    <tr>\n",
       "      <th>2</th>\n",
       "      <td>Kemenkeu Lapor Realisasi Anggaran Makan Bergiz...</td>\n",
       "      <td>Kementerian Keuangan (Kemenkeu) melaporkan rea...</td>\n",
       "      <td>Jumat</td>\n",
       "      <td>23 Mei  2025</td>\n",
       "      <td>16:39 WIB</td>\n",
       "      <td>detikFinanceBerita Ekonomi Bisnis</td>\n",
       "      <td>https://finance.detik.com/berita-ekonomi-bisni...</td>\n",
       "      <td>makan bergizi gratis</td>\n",
       "    </tr>\n",
       "    <tr>\n",
       "      <th>3</th>\n",
       "      <td>Video: BGN Bantah Isu Raffi Ahmad Dapat Proyek...</td>\n",
       "      <td>Kepala Badan Gizi Nasional (BGN), Dadan Hinday...</td>\n",
       "      <td>1</td>\n",
       "      <td>636 Views  |  Kamis, 22 Mei  2025</td>\n",
       "      <td>17:03 WIB</td>\n",
       "      <td>NaN</td>\n",
       "      <td>https://20.detik.com/detikupdate/20250522-2505...</td>\n",
       "      <td>makan bergizi gratis</td>\n",
       "    </tr>\n",
       "    <tr>\n",
       "      <th>4</th>\n",
       "      <td>Upaya Pemkab Gianyar Sukseskan Program Makan B...</td>\n",
       "      <td>Pemkab Gianyar menunjukkan komitmennya dalam m...</td>\n",
       "      <td>Kamis</td>\n",
       "      <td>22 Mei  2025</td>\n",
       "      <td>15:35 WIB</td>\n",
       "      <td>detikBaliBerita</td>\n",
       "      <td>https://www.detik.com/bali/berita/d-7926942/up...</td>\n",
       "      <td>makan bergizi gratis</td>\n",
       "    </tr>\n",
       "  </tbody>\n",
       "</table>\n",
       "</div>"
      ],
      "text/plain": [
       "                                               judul  \\\n",
       "0  PCO: Pemerintah Siapkan Full Dana MBG, Kalau A...   \n",
       "1  Menteri PU Minta ke Erick Agar CSR 3 BUMN Kary...   \n",
       "2  Kemenkeu Lapor Realisasi Anggaran Makan Bergiz...   \n",
       "3  Video: BGN Bantah Isu Raffi Ahmad Dapat Proyek...   \n",
       "4  Upaya Pemkab Gianyar Sukseskan Program Makan B...   \n",
       "\n",
       "                                                 isi   hari  \\\n",
       "0  Kepala Kantor Komunikasi Kepresidenan (PCO) Ha...  Senin   \n",
       "1  Menteri Pekerjaan Umum (PU) Dody Hanggodo memi...  Senin   \n",
       "2  Kementerian Keuangan (Kemenkeu) melaporkan rea...  Jumat   \n",
       "3  Kepala Badan Gizi Nasional (BGN), Dadan Hinday...      1   \n",
       "4  Pemkab Gianyar menunjukkan komitmennya dalam m...  Kamis   \n",
       "\n",
       "                             tanggal        jam  \\\n",
       "0                       26 Mei  2025  15:09 WIB   \n",
       "1                       26 Mei  2025  14:20 WIB   \n",
       "2                       23 Mei  2025  16:39 WIB   \n",
       "3  636 Views  |  Kamis, 22 Mei  2025  17:03 WIB   \n",
       "4                       22 Mei  2025  15:35 WIB   \n",
       "\n",
       "                            kategori  \\\n",
       "0                    detikNewsBerita   \n",
       "1          detikFinanceInfrastruktur   \n",
       "2  detikFinanceBerita Ekonomi Bisnis   \n",
       "3                                NaN   \n",
       "4                    detikBaliBerita   \n",
       "\n",
       "                                                link               keyword  \n",
       "0  https://news.detik.com/berita/d-7933300/pco-pe...  makan bergizi gratis  \n",
       "1  https://finance.detik.com/infrastruktur/d-7933...  makan bergizi gratis  \n",
       "2  https://finance.detik.com/berita-ekonomi-bisni...  makan bergizi gratis  \n",
       "3  https://20.detik.com/detikupdate/20250522-2505...  makan bergizi gratis  \n",
       "4  https://www.detik.com/bali/berita/d-7926942/up...  makan bergizi gratis  "
      ]
     },
     "execution_count": 13,
     "metadata": {},
     "output_type": "execute_result"
    }
   ],
   "source": [
    "df = scrape_detik_dari_csv(\"./files/detik_links.csv\")\n",
    "df.head()"
   ]
  },
  {
   "cell_type": "markdown",
   "id": "cb08474d",
   "metadata": {},
   "source": [
    "### A4. Detik.com menyediakan sitemap xml"
   ]
  },
  {
   "cell_type": "code",
   "execution_count": 14,
   "id": "43e5593a",
   "metadata": {},
   "outputs": [
    {
     "name": "stdout",
     "output_type": "stream",
     "text": [
      "Contoh: https://news.detik.com/suara-pembaca/sitemap_web.xml\n",
      "Total sitemap url: 512\n"
     ]
    }
   ],
   "source": [
    "# Ambil sitemap (allowed dari detik.com/robots.txt)\n",
    "url_sitemap = 'https://www.detik.com/sitemap.xml'\n",
    "response = requests.get(url_sitemap)\n",
    "soup = BeautifulSoup(response.content, 'xml')  # parsing sebagai XML\n",
    "\n",
    "# Ambil semua URL sitemap yang disediakan\n",
    "sitemap_urls = [loc.text for loc in soup.find_all('loc')]\n",
    "print(\"Contoh:\", sitemap_urls[0])\n",
    "print(\"Total sitemap url:\", len(sitemap_urls))"
   ]
  },
  {
   "cell_type": "code",
   "execution_count": 15,
   "id": "e4ff0298",
   "metadata": {},
   "outputs": [
    {
     "name": "stdout",
     "output_type": "stream",
     "text": [
      "Total artikel: 100\n"
     ]
    }
   ],
   "source": [
    "## cek satu sitemap ada berapa artikel\n",
    "sitemap_berita = sitemap_urls[0] \n",
    "resp = requests.get(sitemap_berita)\n",
    "soup2 = BeautifulSoup(resp.content, 'xml')\n",
    "artikel_urls = [loc.text.strip() for loc in soup2.find_all('loc')]\n",
    "print(\"Total artikel:\", len(artikel_urls))"
   ]
  },
  {
   "cell_type": "code",
   "execution_count": 16,
   "id": "5277a8d1",
   "metadata": {},
   "outputs": [
    {
     "data": {
      "text/plain": [
       "'https://news.detik.com/suara-pembaca/d-7928775/sulitnya-hapus-data-registrasi-aplikasi-dana'"
      ]
     },
     "execution_count": 16,
     "metadata": {},
     "output_type": "execute_result"
    }
   ],
   "source": [
    "artikel_urls[0]"
   ]
  },
  {
   "cell_type": "code",
   "execution_count": 17,
   "id": "1ea7cf6e",
   "metadata": {},
   "outputs": [
    {
     "data": {
      "text/html": [
       "<div>\n",
       "<style scoped>\n",
       "    .dataframe tbody tr th:only-of-type {\n",
       "        vertical-align: middle;\n",
       "    }\n",
       "\n",
       "    .dataframe tbody tr th {\n",
       "        vertical-align: top;\n",
       "    }\n",
       "\n",
       "    .dataframe thead th {\n",
       "        text-align: right;\n",
       "    }\n",
       "</style>\n",
       "<table border=\"1\" class=\"dataframe\">\n",
       "  <thead>\n",
       "    <tr style=\"text-align: right;\">\n",
       "      <th></th>\n",
       "      <th>judul</th>\n",
       "      <th>isi</th>\n",
       "      <th>hari</th>\n",
       "      <th>tanggal</th>\n",
       "      <th>jam</th>\n",
       "      <th>kategori</th>\n",
       "      <th>link</th>\n",
       "    </tr>\n",
       "  </thead>\n",
       "  <tbody>\n",
       "    <tr>\n",
       "      <th>0</th>\n",
       "      <td>Sulitnya Hapus Data Registrasi Aplikasi Dana</td>\n",
       "      <td>Saya ingin medaftar akun Dana (PT Espay Debit ...</td>\n",
       "      <td>Jumat</td>\n",
       "      <td>23 Mei  2025</td>\n",
       "      <td>15:32 WIB</td>\n",
       "      <td>detikNewsSuara Pembaca</td>\n",
       "      <td>https://news.detik.com/suara-pembaca/d-7928775...</td>\n",
       "    </tr>\n",
       "    <tr>\n",
       "      <th>1</th>\n",
       "      <td>Penawaran investasi PT Rifan Berjangka Tak Ses...</td>\n",
       "      <td>Saya adalah nasabah komoditas berjangka dari P...</td>\n",
       "      <td>Jumat</td>\n",
       "      <td>23 Mei  2025</td>\n",
       "      <td>15:15 WIB</td>\n",
       "      <td>detikNewsSuara Pembaca</td>\n",
       "      <td>https://news.detik.com/suara-pembaca/d-7928735...</td>\n",
       "    </tr>\n",
       "    <tr>\n",
       "      <th>2</th>\n",
       "      <td>Dilindungi Asuransi, Dua Bulan Lebih Perbaikan...</td>\n",
       "      <td>Pada Oktober 2024, saya membeli mobil Ioniq 5 ...</td>\n",
       "      <td>Jumat</td>\n",
       "      <td>23 Mei  2025</td>\n",
       "      <td>14:33 WIB</td>\n",
       "      <td>detikNewsSuara Pembaca</td>\n",
       "      <td>https://news.detik.com/suara-pembaca/d-7928621...</td>\n",
       "    </tr>\n",
       "    <tr>\n",
       "      <th>3</th>\n",
       "      <td>Satu Tahun Menunggu Proses Refund Dana Member ...</td>\n",
       "      <td>Kami merupakan salah satu Mitra Member Loket P...</td>\n",
       "      <td>Jumat</td>\n",
       "      <td>16 Mei  2025</td>\n",
       "      <td>11:41 WIB</td>\n",
       "      <td>detikNewsSuara Pembaca</td>\n",
       "      <td>https://news.detik.com/suara-pembaca/d-7916830...</td>\n",
       "    </tr>\n",
       "    <tr>\n",
       "      <th>4</th>\n",
       "      <td>Diklaim Lebih Kuat dari Kaca dan Acrylic, Sola...</td>\n",
       "      <td>Saya membeli Solartuff dari Impact Pratama Gro...</td>\n",
       "      <td>Selasa</td>\n",
       "      <td>13 Mei  2025</td>\n",
       "      <td>22:57 WIB</td>\n",
       "      <td>detikNewsSuara Pembaca</td>\n",
       "      <td>https://news.detik.com/suara-pembaca/d-7912935...</td>\n",
       "    </tr>\n",
       "  </tbody>\n",
       "</table>\n",
       "</div>"
      ],
      "text/plain": [
       "                                               judul  \\\n",
       "0       Sulitnya Hapus Data Registrasi Aplikasi Dana   \n",
       "1  Penawaran investasi PT Rifan Berjangka Tak Ses...   \n",
       "2  Dilindungi Asuransi, Dua Bulan Lebih Perbaikan...   \n",
       "3  Satu Tahun Menunggu Proses Refund Dana Member ...   \n",
       "4  Diklaim Lebih Kuat dari Kaca dan Acrylic, Sola...   \n",
       "\n",
       "                                                 isi    hari       tanggal  \\\n",
       "0  Saya ingin medaftar akun Dana (PT Espay Debit ...   Jumat  23 Mei  2025   \n",
       "1  Saya adalah nasabah komoditas berjangka dari P...   Jumat  23 Mei  2025   \n",
       "2  Pada Oktober 2024, saya membeli mobil Ioniq 5 ...   Jumat  23 Mei  2025   \n",
       "3  Kami merupakan salah satu Mitra Member Loket P...   Jumat  16 Mei  2025   \n",
       "4  Saya membeli Solartuff dari Impact Pratama Gro...  Selasa  13 Mei  2025   \n",
       "\n",
       "         jam                kategori  \\\n",
       "0  15:32 WIB  detikNewsSuara Pembaca   \n",
       "1  15:15 WIB  detikNewsSuara Pembaca   \n",
       "2  14:33 WIB  detikNewsSuara Pembaca   \n",
       "3  11:41 WIB  detikNewsSuara Pembaca   \n",
       "4  22:57 WIB  detikNewsSuara Pembaca   \n",
       "\n",
       "                                                link  \n",
       "0  https://news.detik.com/suara-pembaca/d-7928775...  \n",
       "1  https://news.detik.com/suara-pembaca/d-7928735...  \n",
       "2  https://news.detik.com/suara-pembaca/d-7928621...  \n",
       "3  https://news.detik.com/suara-pembaca/d-7916830...  \n",
       "4  https://news.detik.com/suara-pembaca/d-7912935...  "
      ]
     },
     "execution_count": 17,
     "metadata": {},
     "output_type": "execute_result"
    }
   ],
   "source": [
    "berita = []\n",
    "for url in artikel_urls[:5]:  # batasi dulu misalnya 5\n",
    "    try:\n",
    "        hasil = scrape_detik_satu(url)\n",
    "        berita.append(hasil)\n",
    "    except Exception as e:\n",
    "        print(\"Gagal:\", url, e)\n",
    "\n",
    "df = pd.concat(berita, ignore_index=True)\n",
    "df"
   ]
  },
  {
   "cell_type": "markdown",
   "id": "b3cebe6f",
   "metadata": {},
   "source": [
    "### A5. Scraping seluruh isi sitemap"
   ]
  },
  {
   "cell_type": "code",
   "execution_count": null,
   "id": "603b067e",
   "metadata": {},
   "outputs": [],
   "source": [
    "#fungsi ambil url sitemap dari sitemap utama\n",
    "def get_sitemap_urls(master_sitemap_url: str):\n",
    "    response = requests.get(master_sitemap_url)\n",
    "    soup = BeautifulSoup(response.content, 'xml')\n",
    "    sitemap_urls = [loc.get_text().strip() for loc in soup.find_all('loc')]\n",
    "    return sitemap_urls\n",
    "\n",
    "#fungsi ambil url article\n",
    "def get_article_urls(sitemap_url: str):\n",
    "    response = requests.get(sitemap_url)\n",
    "    soup = BeautifulSoup(response.content, 'xml')\n",
    "    article_urls = [loc.get_text().strip() for loc in soup.find_all('loc')]\n",
    "    return article_urls\n",
    "\n",
    "def scrape_detik(url: str):\n",
    "    response = requests.get(url)\n",
    "    soup = BeautifulSoup(response.content, 'html.parser')\n",
    "\n",
    "    # Ambil teks tanggal utuh\n",
    "    tanggal_utuh = soup.find('div', class_='detail__date')\n",
    "    if tanggal_utuh:\n",
    "        waktu = tanggal_utuh.get_text(strip=True)\n",
    "        try:\n",
    "            hari, sisanya = waktu.split(',', 1)\n",
    "            sisanya = sisanya.strip()\n",
    "            parts = sisanya.rsplit(' ', 2)\n",
    "            tanggal_bersih = parts[0]\n",
    "            jam = f\"{parts[1]} {parts[2]}\"\n",
    "        except Exception:\n",
    "            hari = np.nan\n",
    "            tanggal_bersih = np.nan\n",
    "            jam = np.nan\n",
    "    else:\n",
    "        hari = np.nan\n",
    "        tanggal_bersih = np.nan\n",
    "        jam = np.nan\n",
    "\n",
    "    hasil = {\n",
    "        \"judul\": soup.find('h1').get_text(strip=True) if soup.find('h1') else np.nan,\n",
    "        \"isi\": \"\\n\\n\".join(p.get_text(strip=True) for p in soup.find_all('p')),\n",
    "        \"hari\": hari,\n",
    "        \"tanggal\": tanggal_bersih,\n",
    "        \"jam\": jam,\n",
    "        \"kategori\": soup.find('div', class_=\"page__breadcrumb\").get_text(strip=True) if soup.find('div', class_=\"page__breadcrumb\") else np.nan,\n",
    "        \"link\": url\n",
    "    }\n",
    "\n",
    "    return hasil"
   ]
  },
  {
   "cell_type": "code",
   "execution_count": 23,
   "id": "9f0dc0fc",
   "metadata": {},
   "outputs": [],
   "source": [
    "def scrape_all_from_sitemap(master_sitemap_url: str, max_sitemap=None, max_articles=None, output_csv: str=\"detik_semua_artikel_sitemap.csv\"):\n",
    "    \"\"\"\n",
    "    Robot scraping semua artikel dari sitemap utama Detik.\n",
    "\n",
    "    Args:\n",
    "        master_sitemap_url (str): URL sitemap utama.\n",
    "        max_sitemap (int, optional): Batasi jumlah sitemap yang di-scrape. None artinya semua.\n",
    "        max_articles (int, optional): Batasi jumlah artikel per sitemap. None artinya semua.\n",
    "        output_csv (str): Nama file output CSV.\n",
    "\n",
    "    Returns:\n",
    "        pd.DataFrame: DataFrame berisi hasil scraping artikel.\n",
    "    \"\"\"\n",
    "    all_articles = []\n",
    "\n",
    "    print(\"Mengambil daftar sitemap...\")\n",
    "    sitemap_urls = get_sitemap_urls(master_sitemap_url)\n",
    "\n",
    "    if max_sitemap:\n",
    "        sitemap_urls = sitemap_urls[:max_sitemap]\n",
    "\n",
    "    for sitemap in tqdm(sitemap_urls, desc=\"Sitemap\"):\n",
    "        try:\n",
    "            article_urls = get_article_urls(sitemap)\n",
    "            if max_articles:\n",
    "                article_urls = article_urls[:max_articles]\n",
    "\n",
    "            for url in tqdm(article_urls, desc=\"Artikel\", leave=False):\n",
    "                try:\n",
    "                    article = scrape_detik(url)\n",
    "                    all_articles.append(article)\n",
    "                    time.sleep(1)  # Hindari ban\n",
    "                except Exception as e:\n",
    "                    print(\"Gagal scraping artikel:\", url, e)\n",
    "\n",
    "        except Exception as e:\n",
    "            print(\"Gagal akses sitemap:\", sitemap, e)\n",
    "\n",
    "    # Simpan ke CSV\n",
    "    df = pd.DataFrame(all_articles)\n",
    "    df.to_csv(output_csv, index=False, encoding='utf-8-sig')\n",
    "    print(f\"Selesai. Total artikel: {len(df)}. Hasil disimpan di {output_csv}\")\n",
    "    return df"
   ]
  },
  {
   "cell_type": "code",
   "execution_count": 24,
   "id": "498c0044",
   "metadata": {},
   "outputs": [
    {
     "name": "stdout",
     "output_type": "stream",
     "text": [
      "Mengambil daftar sitemap...\n"
     ]
    },
    {
     "name": "stderr",
     "output_type": "stream",
     "text": [
      "Sitemap: 100%|██████████| 2/2 [00:57<00:00, 28.75s/it]"
     ]
    },
    {
     "name": "stdout",
     "output_type": "stream",
     "text": [
      "Selesai. Total artikel: 20. Hasil disimpan di detik_semua_artikel_sitemap.csv\n"
     ]
    },
    {
     "name": "stderr",
     "output_type": "stream",
     "text": [
      "\n"
     ]
    },
    {
     "data": {
      "text/html": [
       "<div>\n",
       "<style scoped>\n",
       "    .dataframe tbody tr th:only-of-type {\n",
       "        vertical-align: middle;\n",
       "    }\n",
       "\n",
       "    .dataframe tbody tr th {\n",
       "        vertical-align: top;\n",
       "    }\n",
       "\n",
       "    .dataframe thead th {\n",
       "        text-align: right;\n",
       "    }\n",
       "</style>\n",
       "<table border=\"1\" class=\"dataframe\">\n",
       "  <thead>\n",
       "    <tr style=\"text-align: right;\">\n",
       "      <th></th>\n",
       "      <th>judul</th>\n",
       "      <th>isi</th>\n",
       "      <th>hari</th>\n",
       "      <th>tanggal</th>\n",
       "      <th>jam</th>\n",
       "      <th>kategori</th>\n",
       "      <th>link</th>\n",
       "    </tr>\n",
       "  </thead>\n",
       "  <tbody>\n",
       "    <tr>\n",
       "      <th>0</th>\n",
       "      <td>Sulitnya Hapus Data Registrasi Aplikasi Dana</td>\n",
       "      <td>Saya ingin medaftar akun Dana (PT Espay Debit ...</td>\n",
       "      <td>Jumat</td>\n",
       "      <td>23 Mei  2025</td>\n",
       "      <td>15:32 WIB</td>\n",
       "      <td>detikNewsSuara Pembaca</td>\n",
       "      <td>https://news.detik.com/suara-pembaca/d-7928775...</td>\n",
       "    </tr>\n",
       "    <tr>\n",
       "      <th>1</th>\n",
       "      <td>Penawaran investasi PT Rifan Berjangka Tak Ses...</td>\n",
       "      <td>Saya adalah nasabah komoditas berjangka dari P...</td>\n",
       "      <td>Jumat</td>\n",
       "      <td>23 Mei  2025</td>\n",
       "      <td>15:15 WIB</td>\n",
       "      <td>detikNewsSuara Pembaca</td>\n",
       "      <td>https://news.detik.com/suara-pembaca/d-7928735...</td>\n",
       "    </tr>\n",
       "    <tr>\n",
       "      <th>2</th>\n",
       "      <td>Dilindungi Asuransi, Dua Bulan Lebih Perbaikan...</td>\n",
       "      <td>Pada Oktober 2024, saya membeli mobil Ioniq 5 ...</td>\n",
       "      <td>Jumat</td>\n",
       "      <td>23 Mei  2025</td>\n",
       "      <td>14:33 WIB</td>\n",
       "      <td>detikNewsSuara Pembaca</td>\n",
       "      <td>https://news.detik.com/suara-pembaca/d-7928621...</td>\n",
       "    </tr>\n",
       "    <tr>\n",
       "      <th>3</th>\n",
       "      <td>Satu Tahun Menunggu Proses Refund Dana Member ...</td>\n",
       "      <td>Kami merupakan salah satu Mitra Member Loket P...</td>\n",
       "      <td>Jumat</td>\n",
       "      <td>16 Mei  2025</td>\n",
       "      <td>11:41 WIB</td>\n",
       "      <td>detikNewsSuara Pembaca</td>\n",
       "      <td>https://news.detik.com/suara-pembaca/d-7916830...</td>\n",
       "    </tr>\n",
       "    <tr>\n",
       "      <th>4</th>\n",
       "      <td>Diklaim Lebih Kuat dari Kaca dan Acrylic, Sola...</td>\n",
       "      <td>Saya membeli Solartuff dari Impact Pratama Gro...</td>\n",
       "      <td>Selasa</td>\n",
       "      <td>13 Mei  2025</td>\n",
       "      <td>22:57 WIB</td>\n",
       "      <td>detikNewsSuara Pembaca</td>\n",
       "      <td>https://news.detik.com/suara-pembaca/d-7912935...</td>\n",
       "    </tr>\n",
       "  </tbody>\n",
       "</table>\n",
       "</div>"
      ],
      "text/plain": [
       "                                               judul  \\\n",
       "0       Sulitnya Hapus Data Registrasi Aplikasi Dana   \n",
       "1  Penawaran investasi PT Rifan Berjangka Tak Ses...   \n",
       "2  Dilindungi Asuransi, Dua Bulan Lebih Perbaikan...   \n",
       "3  Satu Tahun Menunggu Proses Refund Dana Member ...   \n",
       "4  Diklaim Lebih Kuat dari Kaca dan Acrylic, Sola...   \n",
       "\n",
       "                                                 isi    hari       tanggal  \\\n",
       "0  Saya ingin medaftar akun Dana (PT Espay Debit ...   Jumat  23 Mei  2025   \n",
       "1  Saya adalah nasabah komoditas berjangka dari P...   Jumat  23 Mei  2025   \n",
       "2  Pada Oktober 2024, saya membeli mobil Ioniq 5 ...   Jumat  23 Mei  2025   \n",
       "3  Kami merupakan salah satu Mitra Member Loket P...   Jumat  16 Mei  2025   \n",
       "4  Saya membeli Solartuff dari Impact Pratama Gro...  Selasa  13 Mei  2025   \n",
       "\n",
       "         jam                kategori  \\\n",
       "0  15:32 WIB  detikNewsSuara Pembaca   \n",
       "1  15:15 WIB  detikNewsSuara Pembaca   \n",
       "2  14:33 WIB  detikNewsSuara Pembaca   \n",
       "3  11:41 WIB  detikNewsSuara Pembaca   \n",
       "4  22:57 WIB  detikNewsSuara Pembaca   \n",
       "\n",
       "                                                link  \n",
       "0  https://news.detik.com/suara-pembaca/d-7928775...  \n",
       "1  https://news.detik.com/suara-pembaca/d-7928735...  \n",
       "2  https://news.detik.com/suara-pembaca/d-7928621...  \n",
       "3  https://news.detik.com/suara-pembaca/d-7916830...  \n",
       "4  https://news.detik.com/suara-pembaca/d-7912935...  "
      ]
     },
     "execution_count": 24,
     "metadata": {},
     "output_type": "execute_result"
    }
   ],
   "source": [
    "df = scrape_all_from_sitemap('https://www.detik.com/sitemap.xml', max_sitemap=2, max_articles=10)\n",
    "df.head()"
   ]
  },
  {
   "cell_type": "markdown",
   "id": "f6ea0e2c",
   "metadata": {},
   "source": []
  },
  {
   "cell_type": "markdown",
   "id": "78bd274c",
   "metadata": {},
   "source": [
    "# B. Case: Tempo"
   ]
  },
  {
   "cell_type": "code",
   "execution_count": 25,
   "id": "ecadb752",
   "metadata": {},
   "outputs": [],
   "source": [
    "## global\n",
    "import requests\n",
    "import pandas as pd\n",
    "import numpy as np\n",
    "from bs4 import BeautifulSoup #scraping web statis\n",
    "import time\n",
    "from tqdm import tqdm #info progress\n",
    "\n",
    "## selenium, scraping web dinamis\n",
    "from selenium import webdriver\n",
    "from selenium.webdriver.chrome.service import Service\n",
    "from selenium.webdriver.chrome.options import Options\n",
    "from webdriver_manager.chrome import ChromeDriverManager\n",
    "from urllib.parse import quote_plus #parsing string \"spasi\" menjadi \"+\""
   ]
  },
  {
   "cell_type": "code",
   "execution_count": 26,
   "id": "f23bd6ba",
   "metadata": {},
   "outputs": [
    {
     "name": "stdout",
     "output_type": "stream",
     "text": [
      "200\n"
     ]
    }
   ],
   "source": [
    "## check if there is a response, if it's 200, we are good to go\n",
    "s = requests.Session()\n",
    "url = 'https://www.tempo.co/search?q=makan+bergizi+gratis&page=1'\n",
    "response = s.get(url)\n",
    "print(response.status_code)"
   ]
  },
  {
   "cell_type": "markdown",
   "id": "35d65819",
   "metadata": {},
   "source": [
    "### B1. Scraping satu artikel"
   ]
  },
  {
   "cell_type": "code",
   "execution_count": 27,
   "id": "0b3bb7b1",
   "metadata": {},
   "outputs": [],
   "source": [
    "##Fungsi melakukan scraping data 1 halaman Tempo, masukkan string url\n",
    "def scrape_tempo(url: str) -> pd.DataFrame: \n",
    "    ## Inisiasi dictionary hasil\n",
    "    hasil = {}\n",
    "\n",
    "    try:\n",
    "        response = requests.get(url)\n",
    "        soup = BeautifulSoup(response.text, 'html.parser')\n",
    "\n",
    "        ##Judul\n",
    "        judul = soup.find('h1', class_='text-[26px] font-bold leading-[122%] text-neutral-1200')\n",
    "        hasil['judul'] = judul.get_text(strip=True) if judul else np.nan\n",
    "\n",
    "        ## Sub judul\n",
    "        sub_judul = soup.find('div', class_='font-roboserif leading-[156%] text-neutral-1100')\n",
    "        hasil['sub_judul'] = sub_judul.get_text(strip=True) if sub_judul else np.nan\n",
    "\n",
    "        ## Isi berita\n",
    "        isi_paragraf = []\n",
    "        isi_berita = soup.find_all('div', id='content-wrapper', class_='max-lg:container xl')\n",
    "\n",
    "        for i in isi_berita:\n",
    "            paragraf = i.find_all('p')\n",
    "            for p in paragraf:\n",
    "                teks = p.get_text(strip=True)\n",
    "                if teks:  #menambahkan teks bila ada\n",
    "                    isi_paragraf.append(teks)\n",
    "        ringkasan = '\\n\\n'.join(isi_paragraf)\n",
    "        hasil['isi'] = ringkasan if ringkasan else np.nan\n",
    "\n",
    "        ## Tanggal & Jam publikasi\n",
    "        tanggal_publikasi = soup.find('p', class_='text-neutral-900 text-sm')\n",
    "        if tanggal_publikasi:\n",
    "            waktu = tanggal_publikasi.get_text(strip=True)\n",
    "            if '|' in waktu:\n",
    "                tanggal, jam = [part.strip() for part in waktu.split('|')]\n",
    "                hasil['tanggal'] = tanggal\n",
    "                hasil['jam'] = jam\n",
    "            else:\n",
    "                hasil['tanggal'] = waktu\n",
    "                hasil['jam'] = np.nan\n",
    "        else:\n",
    "            hasil['tanggal'] = np.nan\n",
    "            hasil['jam'] = np.nan\n",
    "\n",
    "        ## Kategori\n",
    "        kategori = soup.find('span', class_='text-sm font-medium text-primary-main')\n",
    "        hasil['kategori'] = kategori.get_text(strip=True) if kategori else np.nan\n",
    "\n",
    "        ## Link\n",
    "        hasil['link'] = url \n",
    "\n",
    "    except Exception as e:\n",
    "        print(f\"Terjadi kesalahan saat scraping: {e}\")\n",
    "        return None\n",
    "\n",
    "    ## Kembalikan juga sebagai DataFrame\n",
    "    df = pd.DataFrame([hasil])\n",
    "    # print('selesai scraping')\n",
    "    return df"
   ]
  },
  {
   "cell_type": "code",
   "execution_count": 28,
   "id": "0a04d85e",
   "metadata": {},
   "outputs": [
    {
     "data": {
      "text/html": [
       "<div>\n",
       "<style scoped>\n",
       "    .dataframe tbody tr th:only-of-type {\n",
       "        vertical-align: middle;\n",
       "    }\n",
       "\n",
       "    .dataframe tbody tr th {\n",
       "        vertical-align: top;\n",
       "    }\n",
       "\n",
       "    .dataframe thead th {\n",
       "        text-align: right;\n",
       "    }\n",
       "</style>\n",
       "<table border=\"1\" class=\"dataframe\">\n",
       "  <thead>\n",
       "    <tr style=\"text-align: right;\">\n",
       "      <th></th>\n",
       "      <th>judul</th>\n",
       "      <th>sub_judul</th>\n",
       "      <th>isi</th>\n",
       "      <th>tanggal</th>\n",
       "      <th>jam</th>\n",
       "      <th>kategori</th>\n",
       "      <th>link</th>\n",
       "    </tr>\n",
       "  </thead>\n",
       "  <tbody>\n",
       "    <tr>\n",
       "      <th>0</th>\n",
       "      <td>Potensi Masalah dari Rencana Pemerintah Ubah L...</td>\n",
       "      <td>Rencana ini berpotensi melanggar hak asasi par...</td>\n",
       "      <td>TEMPO.CO,Jakarta- Menteri Perumahan dan Kawasa...</td>\n",
       "      <td>24 Mei 2025</td>\n",
       "      <td>21.00 WIB</td>\n",
       "      <td>Bisnis</td>\n",
       "      <td>https://www.tempo.co/ekonomi/potensi-masalah-d...</td>\n",
       "    </tr>\n",
       "  </tbody>\n",
       "</table>\n",
       "</div>"
      ],
      "text/plain": [
       "                                               judul  \\\n",
       "0  Potensi Masalah dari Rencana Pemerintah Ubah L...   \n",
       "\n",
       "                                           sub_judul  \\\n",
       "0  Rencana ini berpotensi melanggar hak asasi par...   \n",
       "\n",
       "                                                 isi      tanggal        jam  \\\n",
       "0  TEMPO.CO,Jakarta- Menteri Perumahan dan Kawasa...  24 Mei 2025  21.00 WIB   \n",
       "\n",
       "  kategori                                               link  \n",
       "0   Bisnis  https://www.tempo.co/ekonomi/potensi-masalah-d...  "
      ]
     },
     "execution_count": 28,
     "metadata": {},
     "output_type": "execute_result"
    }
   ],
   "source": [
    "url = 'https://www.tempo.co/ekonomi/potensi-masalah-dari-rencana-pemerintah-ubah-lapas-jadi-perumahan-1533913'\n",
    "df_hasil = scrape_tempo(url)\n",
    "df_hasil"
   ]
  },
  {
   "cell_type": "markdown",
   "id": "1679f977",
   "metadata": {},
   "source": [
    "### B2. Crawling URLs"
   ]
  },
  {
   "cell_type": "code",
   "execution_count": 32,
   "id": "bc8954ca",
   "metadata": {},
   "outputs": [],
   "source": [
    "##Fungsi melakukan scraping URL Tempo, masukkan string keyword dan max halaman\n",
    "def scrape_tempo_search_selenium(kata_kunci: str, halaman: int) -> pd.DataFrame: \n",
    "    \"\"\"\n",
    "    Robot crawling url yang diinginkan berdasarkan kata kunci yang user input.\n",
    "\n",
    "    Args:\n",
    "        kata_kunci (str): Query yang ingin dimasukkan.\n",
    "        halaman (int): Batasi jumlah halaman yang di-scrape.\n",
    "\n",
    "    Returns:\n",
    "        pd.DataFrame: DataFrame berisi hasil crawling url.\n",
    "    \"\"\"\n",
    "    # Set User-Agent\n",
    "    user_agent = 'Mozilla/5.0 (Windows NT 10.0; Win64; x64) AppleWebKit/537.36 (KHTML, like Gecko) Chrome/125.0.0.0 Safari/537.36'\n",
    "    opts = Options()\n",
    "    opts.add_argument(f\"user-agent={user_agent}\")\n",
    "    opts.add_argument(\"--headless\")\n",
    "\n",
    "    driver = webdriver.Chrome(service=Service(ChromeDriverManager().install()), options=opts)\n",
    "        \n",
    "    # Parameter input\n",
    "    keyword = kata_kunci #contoh: \"makan bergizi gratis\"\n",
    "    max_pages = halaman #contoh: 2\n",
    "    results = []\n",
    "\n",
    "    # Loop halaman\n",
    "    for page in tqdm(range(1, max_pages + 1)):\n",
    "        # print(f\"Scraping page {page}...\")\n",
    "\n",
    "        # Format URL pencarian\n",
    "        encoded_query = quote_plus(keyword)\n",
    "        url = f\"https://www.tempo.co/search?q={encoded_query}&page={page}\"\n",
    "        \n",
    "        driver.get(url)\n",
    "        time.sleep(10)\n",
    "\n",
    "        try:\n",
    "            container = driver.find_element(\"css selector\", \"div.flex.flex-col.divide-y.divide-neutral-500\")\n",
    "            beritas = container.find_elements(\"css selector\", \"figure.flex.flex-row.gap-3.py-4.container.lg\\\\:mx-0.lg\\\\:px-0\")\n",
    "            for berita in beritas:\n",
    "                try:\n",
    "                    a = berita.find_element(\"tag name\", \"a\")\n",
    "                    p = berita.find_element(\"tag name\", \"p\")\n",
    "                    results.append({\n",
    "                        \"judul\": p.text,\n",
    "                        \"link\": a.get_attribute(\"href\"),\n",
    "                        \"keyword\": keyword\n",
    "                    })\n",
    "                except Exception as e:\n",
    "                    print(\"Skip 1 berita:\", e)\n",
    "\n",
    "        except Exception as e:\n",
    "            print(\"Skip page:\", e)\n",
    "\n",
    "    driver.quit()\n",
    "\n",
    "    # Simpan ke DataFrame\n",
    "    df = pd.DataFrame(results)\n",
    "    print(\"Selesai. Total berita:\", len(df))\n",
    "    return df"
   ]
  },
  {
   "cell_type": "code",
   "execution_count": 33,
   "id": "46b6ac67",
   "metadata": {},
   "outputs": [
    {
     "name": "stderr",
     "output_type": "stream",
     "text": [
      "100%|██████████| 2/2 [00:22<00:00, 11.46s/it]\n"
     ]
    },
    {
     "name": "stdout",
     "output_type": "stream",
     "text": [
      "Selesai. Total berita: 20\n"
     ]
    },
    {
     "data": {
      "text/html": [
       "<div>\n",
       "<style scoped>\n",
       "    .dataframe tbody tr th:only-of-type {\n",
       "        vertical-align: middle;\n",
       "    }\n",
       "\n",
       "    .dataframe tbody tr th {\n",
       "        vertical-align: top;\n",
       "    }\n",
       "\n",
       "    .dataframe thead th {\n",
       "        text-align: right;\n",
       "    }\n",
       "</style>\n",
       "<table border=\"1\" class=\"dataframe\">\n",
       "  <thead>\n",
       "    <tr style=\"text-align: right;\">\n",
       "      <th></th>\n",
       "      <th>judul</th>\n",
       "      <th>link</th>\n",
       "      <th>keyword</th>\n",
       "    </tr>\n",
       "  </thead>\n",
       "  <tbody>\n",
       "    <tr>\n",
       "      <th>0</th>\n",
       "      <td>Sinyal Darurat Penerimaan Pajak</td>\n",
       "      <td>https://www.tempo.co/kolom/rasio-pajak-penerim...</td>\n",
       "      <td>makan bergizi gratis</td>\n",
       "    </tr>\n",
       "    <tr>\n",
       "      <th>1</th>\n",
       "      <td>Seknas Fitra: Makan Bergizi Gratis Belum Dongk...</td>\n",
       "      <td>https://www.tempo.co/ekonomi/seknas-fitra-maka...</td>\n",
       "      <td>makan bergizi gratis</td>\n",
       "    </tr>\n",
       "    <tr>\n",
       "      <th>2</th>\n",
       "      <td>Hingga 21 Mei, Anggaran Makan Bergizi Gratis S...</td>\n",
       "      <td>https://www.tempo.co/ekonomi/hingga-21-mei-ang...</td>\n",
       "      <td>makan bergizi gratis</td>\n",
       "    </tr>\n",
       "    <tr>\n",
       "      <th>3</th>\n",
       "      <td>Korban Keracunan MBG Lebih Besar dari Klaim Pr...</td>\n",
       "      <td>https://www.tempo.co/politik/korban-keracunan-...</td>\n",
       "      <td>makan bergizi gratis</td>\n",
       "    </tr>\n",
       "    <tr>\n",
       "      <th>4</th>\n",
       "      <td>Sejumlah Titik Kritis dalam Program MBG, Menur...</td>\n",
       "      <td>https://www.tempo.co/politik/sejumlah-titik-kr...</td>\n",
       "      <td>makan bergizi gratis</td>\n",
       "    </tr>\n",
       "    <tr>\n",
       "      <th>5</th>\n",
       "      <td>Bos BGN Membantah Raffi Ahmad Kelola 300 Dapur...</td>\n",
       "      <td>https://www.tempo.co/ekonomi/bos-bgn-membantah...</td>\n",
       "      <td>makan bergizi gratis</td>\n",
       "    </tr>\n",
       "    <tr>\n",
       "      <th>6</th>\n",
       "      <td>Sekjen Kemendagri Instruksikan Percepatan Laha...</td>\n",
       "      <td>https://www.tempo.co/info-tempo/sekjen-kemenda...</td>\n",
       "      <td>makan bergizi gratis</td>\n",
       "    </tr>\n",
       "    <tr>\n",
       "      <th>7</th>\n",
       "      <td>Badan Gizi Nasional jadi Instansi dengan Pagu ...</td>\n",
       "      <td>https://www.tempo.co/ekonomi/badan-gizi-nasion...</td>\n",
       "      <td>makan bergizi gratis</td>\n",
       "    </tr>\n",
       "    <tr>\n",
       "      <th>8</th>\n",
       "      <td>BGN Tambah 294 SPPG untuk Makan Bergizi Gratis...</td>\n",
       "      <td>https://www.tempo.co/politik/bgn-tambah-294-sp...</td>\n",
       "      <td>makan bergizi gratis</td>\n",
       "    </tr>\n",
       "    <tr>\n",
       "      <th>9</th>\n",
       "      <td>REI: Program 3 Juta Rumah Dukung Efektivitas M...</td>\n",
       "      <td>https://www.tempo.co/ekonomi/rei-program-3-jut...</td>\n",
       "      <td>makan bergizi gratis</td>\n",
       "    </tr>\n",
       "    <tr>\n",
       "      <th>10</th>\n",
       "      <td>Kata 'Hanya' bagi Prabowo Subianto</td>\n",
       "      <td>https://www.tempo.co/kolom/keracunan-mbg-prabo...</td>\n",
       "      <td>makan bergizi gratis</td>\n",
       "    </tr>\n",
       "    <tr>\n",
       "      <th>11</th>\n",
       "      <td>Belum Sepekan Prabowo Canangkan Target Zero Ac...</td>\n",
       "      <td>https://www.tempo.co/politik/belum-sepekan-pra...</td>\n",
       "      <td>makan bergizi gratis</td>\n",
       "    </tr>\n",
       "    <tr>\n",
       "      <th>12</th>\n",
       "      <td>3 Penyebab Keracunan Makanan di Program Makan ...</td>\n",
       "      <td>https://www.tempo.co/politik/3-penyebab-keracu...</td>\n",
       "      <td>makan bergizi gratis</td>\n",
       "    </tr>\n",
       "    <tr>\n",
       "      <th>13</th>\n",
       "      <td>Kata Badan Gizi Soal Belum Melibatkan BPOM di ...</td>\n",
       "      <td>https://www.tempo.co/politik/kata-badan-gizi-s...</td>\n",
       "      <td>makan bergizi gratis</td>\n",
       "    </tr>\n",
       "    <tr>\n",
       "      <th>14</th>\n",
       "      <td>BPOM Belum Dilibatkan Mengawasi Produksi Makan...</td>\n",
       "      <td>https://www.tempo.co/video/arsip/bpom-belum-di...</td>\n",
       "      <td>makan bergizi gratis</td>\n",
       "    </tr>\n",
       "    <tr>\n",
       "      <th>15</th>\n",
       "      <td>BPOM Catat 17 Kejadian Luar Biasa Kasus Keracu...</td>\n",
       "      <td>https://www.tempo.co/politik/bpom-catat-17-kej...</td>\n",
       "      <td>makan bergizi gratis</td>\n",
       "    </tr>\n",
       "    <tr>\n",
       "      <th>16</th>\n",
       "      <td>BPOM Ungkap Penyebab Keracunan pada Menu MBG</td>\n",
       "      <td>https://www.tempo.co/ekonomi/bpom-ungkap-penye...</td>\n",
       "      <td>makan bergizi gratis</td>\n",
       "    </tr>\n",
       "    <tr>\n",
       "      <th>17</th>\n",
       "      <td>Desa Panongan Jadi Percontohan Nasional BUMDes...</td>\n",
       "      <td>https://www.tempo.co/ekonomi/desa-panongan-jad...</td>\n",
       "      <td>makan bergizi gratis</td>\n",
       "    </tr>\n",
       "    <tr>\n",
       "      <th>18</th>\n",
       "      <td>Ini Penyebab Keracunan Makan Bergizi Gratis di...</td>\n",
       "      <td>https://www.tempo.co/politik/ini-penyebab-kera...</td>\n",
       "      <td>makan bergizi gratis</td>\n",
       "    </tr>\n",
       "    <tr>\n",
       "      <th>19</th>\n",
       "      <td>BGN Bilang Tanggung Biaya Pengobatan Siswa Ker...</td>\n",
       "      <td>https://www.tempo.co/politik/bgn-bilang-tanggu...</td>\n",
       "      <td>makan bergizi gratis</td>\n",
       "    </tr>\n",
       "  </tbody>\n",
       "</table>\n",
       "</div>"
      ],
      "text/plain": [
       "                                                judul  \\\n",
       "0                     Sinyal Darurat Penerimaan Pajak   \n",
       "1   Seknas Fitra: Makan Bergizi Gratis Belum Dongk...   \n",
       "2   Hingga 21 Mei, Anggaran Makan Bergizi Gratis S...   \n",
       "3   Korban Keracunan MBG Lebih Besar dari Klaim Pr...   \n",
       "4   Sejumlah Titik Kritis dalam Program MBG, Menur...   \n",
       "5   Bos BGN Membantah Raffi Ahmad Kelola 300 Dapur...   \n",
       "6   Sekjen Kemendagri Instruksikan Percepatan Laha...   \n",
       "7   Badan Gizi Nasional jadi Instansi dengan Pagu ...   \n",
       "8   BGN Tambah 294 SPPG untuk Makan Bergizi Gratis...   \n",
       "9   REI: Program 3 Juta Rumah Dukung Efektivitas M...   \n",
       "10                 Kata 'Hanya' bagi Prabowo Subianto   \n",
       "11  Belum Sepekan Prabowo Canangkan Target Zero Ac...   \n",
       "12  3 Penyebab Keracunan Makanan di Program Makan ...   \n",
       "13  Kata Badan Gizi Soal Belum Melibatkan BPOM di ...   \n",
       "14  BPOM Belum Dilibatkan Mengawasi Produksi Makan...   \n",
       "15  BPOM Catat 17 Kejadian Luar Biasa Kasus Keracu...   \n",
       "16       BPOM Ungkap Penyebab Keracunan pada Menu MBG   \n",
       "17  Desa Panongan Jadi Percontohan Nasional BUMDes...   \n",
       "18  Ini Penyebab Keracunan Makan Bergizi Gratis di...   \n",
       "19  BGN Bilang Tanggung Biaya Pengobatan Siswa Ker...   \n",
       "\n",
       "                                                 link               keyword  \n",
       "0   https://www.tempo.co/kolom/rasio-pajak-penerim...  makan bergizi gratis  \n",
       "1   https://www.tempo.co/ekonomi/seknas-fitra-maka...  makan bergizi gratis  \n",
       "2   https://www.tempo.co/ekonomi/hingga-21-mei-ang...  makan bergizi gratis  \n",
       "3   https://www.tempo.co/politik/korban-keracunan-...  makan bergizi gratis  \n",
       "4   https://www.tempo.co/politik/sejumlah-titik-kr...  makan bergizi gratis  \n",
       "5   https://www.tempo.co/ekonomi/bos-bgn-membantah...  makan bergizi gratis  \n",
       "6   https://www.tempo.co/info-tempo/sekjen-kemenda...  makan bergizi gratis  \n",
       "7   https://www.tempo.co/ekonomi/badan-gizi-nasion...  makan bergizi gratis  \n",
       "8   https://www.tempo.co/politik/bgn-tambah-294-sp...  makan bergizi gratis  \n",
       "9   https://www.tempo.co/ekonomi/rei-program-3-jut...  makan bergizi gratis  \n",
       "10  https://www.tempo.co/kolom/keracunan-mbg-prabo...  makan bergizi gratis  \n",
       "11  https://www.tempo.co/politik/belum-sepekan-pra...  makan bergizi gratis  \n",
       "12  https://www.tempo.co/politik/3-penyebab-keracu...  makan bergizi gratis  \n",
       "13  https://www.tempo.co/politik/kata-badan-gizi-s...  makan bergizi gratis  \n",
       "14  https://www.tempo.co/video/arsip/bpom-belum-di...  makan bergizi gratis  \n",
       "15  https://www.tempo.co/politik/bpom-catat-17-kej...  makan bergizi gratis  \n",
       "16  https://www.tempo.co/ekonomi/bpom-ungkap-penye...  makan bergizi gratis  \n",
       "17  https://www.tempo.co/ekonomi/desa-panongan-jad...  makan bergizi gratis  \n",
       "18  https://www.tempo.co/politik/ini-penyebab-kera...  makan bergizi gratis  \n",
       "19  https://www.tempo.co/politik/bgn-bilang-tanggu...  makan bergizi gratis  "
      ]
     },
     "execution_count": 33,
     "metadata": {},
     "output_type": "execute_result"
    }
   ],
   "source": [
    "#max pages yang bisa diakses publik hanya 100 pages untuk tiap keyword (pengecekan manual)\n",
    "scrape_tempo_search_selenium(\"makan bergizi gratis\", 2)"
   ]
  },
  {
   "cell_type": "code",
   "execution_count": 34,
   "id": "6b4eea15",
   "metadata": {},
   "outputs": [
    {
     "name": "stdout",
     "output_type": "stream",
     "text": [
      "Scraping untuk keyword: makan bergizi gratis\n"
     ]
    },
    {
     "name": "stderr",
     "output_type": "stream",
     "text": [
      "100%|██████████| 2/2 [00:32<00:00, 16.12s/it]\n"
     ]
    },
    {
     "name": "stdout",
     "output_type": "stream",
     "text": [
      "Selesai. Total berita: 20\n",
      "Scraping untuk keyword: efisiensi anggaran\n"
     ]
    },
    {
     "name": "stderr",
     "output_type": "stream",
     "text": [
      "100%|██████████| 2/2 [00:25<00:00, 12.59s/it]\n"
     ]
    },
    {
     "name": "stdout",
     "output_type": "stream",
     "text": [
      "Selesai. Total berita: 20\n",
      "Scraping untuk keyword: CPNS 2025\n"
     ]
    },
    {
     "name": "stderr",
     "output_type": "stream",
     "text": [
      "100%|██████████| 2/2 [00:28<00:00, 14.02s/it]\n"
     ]
    },
    {
     "name": "stdout",
     "output_type": "stream",
     "text": [
      "Selesai. Total berita: 20\n",
      "Scraping untuk keyword: kemiskinan world bank\n"
     ]
    },
    {
     "name": "stderr",
     "output_type": "stream",
     "text": [
      "100%|██████████| 2/2 [00:25<00:00, 12.89s/it]\n"
     ]
    },
    {
     "name": "stdout",
     "output_type": "stream",
     "text": [
      "Selesai. Total berita: 14\n"
     ]
    }
   ],
   "source": [
    "## looping list keyword\n",
    "\n",
    "# Daftar keyword yang ingin di-scrape\n",
    "list_keyword = [\n",
    "    \"makan bergizi gratis\",\n",
    "    \"efisiensi anggaran\",\n",
    "    \"CPNS 2025\",\n",
    "    \"kemiskinan world bank\"\n",
    "]\n",
    "\n",
    "# Set jumlah halaman yang ingin di-scrape per keyword\n",
    "halaman = 2\n",
    "\n",
    "# List untuk menyimpan semua DataFrame\n",
    "dfs = []\n",
    "\n",
    "for keyword in list_keyword:\n",
    "    print(f\"Scraping untuk keyword: {keyword}\")\n",
    "    df_keyword = scrape_tempo_search_selenium(keyword, halaman)\n",
    "    dfs.append(df_keyword)\n",
    "\n",
    "# Gabungkan semua hasil\n",
    "df_final = pd.concat(dfs, ignore_index=True)"
   ]
  },
  {
   "cell_type": "code",
   "execution_count": 35,
   "id": "4b2443d7",
   "metadata": {},
   "outputs": [
    {
     "data": {
      "text/html": [
       "<div>\n",
       "<style scoped>\n",
       "    .dataframe tbody tr th:only-of-type {\n",
       "        vertical-align: middle;\n",
       "    }\n",
       "\n",
       "    .dataframe tbody tr th {\n",
       "        vertical-align: top;\n",
       "    }\n",
       "\n",
       "    .dataframe thead th {\n",
       "        text-align: right;\n",
       "    }\n",
       "</style>\n",
       "<table border=\"1\" class=\"dataframe\">\n",
       "  <thead>\n",
       "    <tr style=\"text-align: right;\">\n",
       "      <th></th>\n",
       "      <th>judul</th>\n",
       "      <th>link</th>\n",
       "      <th>keyword</th>\n",
       "    </tr>\n",
       "  </thead>\n",
       "  <tbody>\n",
       "    <tr>\n",
       "      <th>0</th>\n",
       "      <td>Sinyal Darurat Penerimaan Pajak</td>\n",
       "      <td>https://www.tempo.co/kolom/rasio-pajak-penerim...</td>\n",
       "      <td>makan bergizi gratis</td>\n",
       "    </tr>\n",
       "    <tr>\n",
       "      <th>1</th>\n",
       "      <td>Seknas Fitra: Makan Bergizi Gratis Belum Dongk...</td>\n",
       "      <td>https://www.tempo.co/ekonomi/seknas-fitra-maka...</td>\n",
       "      <td>makan bergizi gratis</td>\n",
       "    </tr>\n",
       "    <tr>\n",
       "      <th>2</th>\n",
       "      <td>Hingga 21 Mei, Anggaran Makan Bergizi Gratis S...</td>\n",
       "      <td>https://www.tempo.co/ekonomi/hingga-21-mei-ang...</td>\n",
       "      <td>makan bergizi gratis</td>\n",
       "    </tr>\n",
       "    <tr>\n",
       "      <th>3</th>\n",
       "      <td>Korban Keracunan MBG Lebih Besar dari Klaim Pr...</td>\n",
       "      <td>https://www.tempo.co/politik/korban-keracunan-...</td>\n",
       "      <td>makan bergizi gratis</td>\n",
       "    </tr>\n",
       "    <tr>\n",
       "      <th>4</th>\n",
       "      <td>Sejumlah Titik Kritis dalam Program MBG, Menur...</td>\n",
       "      <td>https://www.tempo.co/politik/sejumlah-titik-kr...</td>\n",
       "      <td>makan bergizi gratis</td>\n",
       "    </tr>\n",
       "    <tr>\n",
       "      <th>...</th>\n",
       "      <td>...</td>\n",
       "      <td>...</td>\n",
       "      <td>...</td>\n",
       "    </tr>\n",
       "    <tr>\n",
       "      <th>69</th>\n",
       "      <td>Berdiri Pasca Perang Dunia II, Apa Peran Bank ...</td>\n",
       "      <td>https://www.tempo.co/ekonomi/berdiri-pasca-per...</td>\n",
       "      <td>kemiskinan world bank</td>\n",
       "    </tr>\n",
       "    <tr>\n",
       "      <th>70</th>\n",
       "      <td>76 Tahun Bank Dunia, Targetnya Akhiri Kemiskin...</td>\n",
       "      <td>https://www.tempo.co/ekonomi/76-tahun-bank-dun...</td>\n",
       "      <td>kemiskinan world bank</td>\n",
       "    </tr>\n",
       "    <tr>\n",
       "      <th>71</th>\n",
       "      <td>World Bank: Kemiskinan Terendah di Jakarta, Te...</td>\n",
       "      <td>https://www.tempo.co/ekonomi/world-bank-kemisk...</td>\n",
       "      <td>kemiskinan world bank</td>\n",
       "    </tr>\n",
       "    <tr>\n",
       "      <th>72</th>\n",
       "      <td>Bank Dunia: Urbanisasi Naik 1 Persen Turunkan ...</td>\n",
       "      <td>https://www.tempo.co/ekonomi/bank-dunia-urbani...</td>\n",
       "      <td>kemiskinan world bank</td>\n",
       "    </tr>\n",
       "    <tr>\n",
       "      <th>73</th>\n",
       "      <td>Ekonom Sebutkan Tiga Pilar Utama Atasi Ketimpa...</td>\n",
       "      <td>https://www.tempo.co/ekonomi/ekonom-sebutkan-t...</td>\n",
       "      <td>kemiskinan world bank</td>\n",
       "    </tr>\n",
       "  </tbody>\n",
       "</table>\n",
       "<p>74 rows × 3 columns</p>\n",
       "</div>"
      ],
      "text/plain": [
       "                                                judul  \\\n",
       "0                     Sinyal Darurat Penerimaan Pajak   \n",
       "1   Seknas Fitra: Makan Bergizi Gratis Belum Dongk...   \n",
       "2   Hingga 21 Mei, Anggaran Makan Bergizi Gratis S...   \n",
       "3   Korban Keracunan MBG Lebih Besar dari Klaim Pr...   \n",
       "4   Sejumlah Titik Kritis dalam Program MBG, Menur...   \n",
       "..                                                ...   \n",
       "69  Berdiri Pasca Perang Dunia II, Apa Peran Bank ...   \n",
       "70  76 Tahun Bank Dunia, Targetnya Akhiri Kemiskin...   \n",
       "71  World Bank: Kemiskinan Terendah di Jakarta, Te...   \n",
       "72  Bank Dunia: Urbanisasi Naik 1 Persen Turunkan ...   \n",
       "73  Ekonom Sebutkan Tiga Pilar Utama Atasi Ketimpa...   \n",
       "\n",
       "                                                 link                keyword  \n",
       "0   https://www.tempo.co/kolom/rasio-pajak-penerim...   makan bergizi gratis  \n",
       "1   https://www.tempo.co/ekonomi/seknas-fitra-maka...   makan bergizi gratis  \n",
       "2   https://www.tempo.co/ekonomi/hingga-21-mei-ang...   makan bergizi gratis  \n",
       "3   https://www.tempo.co/politik/korban-keracunan-...   makan bergizi gratis  \n",
       "4   https://www.tempo.co/politik/sejumlah-titik-kr...   makan bergizi gratis  \n",
       "..                                                ...                    ...  \n",
       "69  https://www.tempo.co/ekonomi/berdiri-pasca-per...  kemiskinan world bank  \n",
       "70  https://www.tempo.co/ekonomi/76-tahun-bank-dun...  kemiskinan world bank  \n",
       "71  https://www.tempo.co/ekonomi/world-bank-kemisk...  kemiskinan world bank  \n",
       "72  https://www.tempo.co/ekonomi/bank-dunia-urbani...  kemiskinan world bank  \n",
       "73  https://www.tempo.co/ekonomi/ekonom-sebutkan-t...  kemiskinan world bank  \n",
       "\n",
       "[74 rows x 3 columns]"
      ]
     },
     "execution_count": 35,
     "metadata": {},
     "output_type": "execute_result"
    }
   ],
   "source": [
    "df_final.to_csv(\"./files/tempo_links.csv\", index=False, encoding='utf-8-sig')\n",
    "df_final"
   ]
  },
  {
   "cell_type": "markdown",
   "id": "f64e6359",
   "metadata": {},
   "source": [
    "### B3. Scraping artikel dalam URLs"
   ]
  },
  {
   "cell_type": "code",
   "execution_count": 36,
   "id": "3b16d691",
   "metadata": {},
   "outputs": [],
   "source": [
    "##Fungsi melakukan scraping data dari hasil crawling URL Tempo, masukkan csv\n",
    "def scrape_tempo_dari_csv(path_csv: str) -> pd.DataFrame:\n",
    "    # Membaca CSV hasil scraping link\n",
    "    df_links = pd.read_csv(path_csv)\n",
    "\n",
    "    # Memastikan kolom 'link' ada\n",
    "    if 'link' not in df_links.columns:\n",
    "        raise ValueError(\"CSV tidak mengandung kolom 'link'.\")\n",
    "\n",
    "    hasil_semua = []\n",
    "    for i, row in tqdm(df_links.iterrows(), total=len(df_links)):\n",
    "        url = row['link']\n",
    "        df_artikel = scrape_tempo(url) #memanggil dan menjalankan fungsi scrape_tempo satu artikel\n",
    "        keyword = row['keyword']\n",
    "        if df_artikel is not None:\n",
    "            df_artikel['keyword'] = keyword\n",
    "            hasil_semua.append(df_artikel)\n",
    "\n",
    "    # Gabungkan semua DataFrame\n",
    "    if hasil_semua:\n",
    "        df_final = pd.concat(hasil_semua, ignore_index=True)\n",
    "        df_final.to_csv('./files/tempo_semua_artikel.csv', index=False, encoding='utf-8-sig')\n",
    "        print(\"Selesai menyimpan semua artikel.\")\n",
    "        return df_final\n",
    "    else:\n",
    "        print(\"Tidak ada artikel yang berhasil di-scrape.\")\n",
    "        return pd.DataFrame()"
   ]
  },
  {
   "cell_type": "code",
   "execution_count": 37,
   "id": "6de1ea70",
   "metadata": {},
   "outputs": [
    {
     "name": "stderr",
     "output_type": "stream",
     "text": [
      "100%|██████████| 74/74 [02:09<00:00,  1.75s/it]"
     ]
    },
    {
     "name": "stdout",
     "output_type": "stream",
     "text": [
      "Selesai menyimpan semua artikel.\n"
     ]
    },
    {
     "name": "stderr",
     "output_type": "stream",
     "text": [
      "\n"
     ]
    },
    {
     "data": {
      "text/html": [
       "<div>\n",
       "<style scoped>\n",
       "    .dataframe tbody tr th:only-of-type {\n",
       "        vertical-align: middle;\n",
       "    }\n",
       "\n",
       "    .dataframe tbody tr th {\n",
       "        vertical-align: top;\n",
       "    }\n",
       "\n",
       "    .dataframe thead th {\n",
       "        text-align: right;\n",
       "    }\n",
       "</style>\n",
       "<table border=\"1\" class=\"dataframe\">\n",
       "  <thead>\n",
       "    <tr style=\"text-align: right;\">\n",
       "      <th></th>\n",
       "      <th>judul</th>\n",
       "      <th>sub_judul</th>\n",
       "      <th>isi</th>\n",
       "      <th>tanggal</th>\n",
       "      <th>jam</th>\n",
       "      <th>kategori</th>\n",
       "      <th>link</th>\n",
       "      <th>keyword</th>\n",
       "    </tr>\n",
       "  </thead>\n",
       "  <tbody>\n",
       "    <tr>\n",
       "      <th>0</th>\n",
       "      <td>Sinyal Darurat Penerimaan Pajak</td>\n",
       "      <td>Pemerintah tidak kunjung memperbaiki rasio per...</td>\n",
       "      <td>JEBLOKNYApenerimaan pajakpada kuartal pertama ...</td>\n",
       "      <td>26 Mei 2025</td>\n",
       "      <td>06.00 WIB</td>\n",
       "      <td>Editorial</td>\n",
       "      <td>https://www.tempo.co/kolom/rasio-pajak-penerim...</td>\n",
       "      <td>makan bergizi gratis</td>\n",
       "    </tr>\n",
       "    <tr>\n",
       "      <th>1</th>\n",
       "      <td>Seknas Fitra: Makan Bergizi Gratis Belum Dongk...</td>\n",
       "      <td>Karena memaksakan Makan Bergizi Gratis pemerin...</td>\n",
       "      <td>TEMPO.CO,Jakarta-Sekretariat Nasional Forum In...</td>\n",
       "      <td>24 Mei 2025</td>\n",
       "      <td>17.24 WIB</td>\n",
       "      <td>Bisnis</td>\n",
       "      <td>https://www.tempo.co/ekonomi/seknas-fitra-maka...</td>\n",
       "      <td>makan bergizi gratis</td>\n",
       "    </tr>\n",
       "    <tr>\n",
       "      <th>2</th>\n",
       "      <td>Hingga 21 Mei, Anggaran Makan Bergizi Gratis S...</td>\n",
       "      <td>Hingga 21 Mei 2025 kementerian keuangan telah ...</td>\n",
       "      <td>TEMPO.CO,Jakarta- Wakil Menteri Keuangan Suaha...</td>\n",
       "      <td>23 Mei 2025</td>\n",
       "      <td>16.11 WIB</td>\n",
       "      <td>Bisnis</td>\n",
       "      <td>https://www.tempo.co/ekonomi/hingga-21-mei-ang...</td>\n",
       "      <td>makan bergizi gratis</td>\n",
       "    </tr>\n",
       "    <tr>\n",
       "      <th>3</th>\n",
       "      <td>Korban Keracunan MBG Lebih Besar dari Klaim Pr...</td>\n",
       "      <td>Tim Cek Fakta Tempo menemukan angka keracunan ...</td>\n",
       "      <td>TEMPO.CO,Jakarta-PRESIDEN Prabowo Subianto men...</td>\n",
       "      <td>23 Mei 2025</td>\n",
       "      <td>14.10 WIB</td>\n",
       "      <td>Politik</td>\n",
       "      <td>https://www.tempo.co/politik/korban-keracunan-...</td>\n",
       "      <td>makan bergizi gratis</td>\n",
       "    </tr>\n",
       "    <tr>\n",
       "      <th>4</th>\n",
       "      <td>Sejumlah Titik Kritis dalam Program MBG, Menur...</td>\n",
       "      <td>Kepala BPOM mendorong keterlibatan instansinya...</td>\n",
       "      <td>KOMISI IX DPR mendesak Badan Pengawas Obat dan...</td>\n",
       "      <td>23 Mei 2025</td>\n",
       "      <td>10.13 WIB</td>\n",
       "      <td>Politik</td>\n",
       "      <td>https://www.tempo.co/politik/sejumlah-titik-kr...</td>\n",
       "      <td>makan bergizi gratis</td>\n",
       "    </tr>\n",
       "  </tbody>\n",
       "</table>\n",
       "</div>"
      ],
      "text/plain": [
       "                                               judul  \\\n",
       "0                    Sinyal Darurat Penerimaan Pajak   \n",
       "1  Seknas Fitra: Makan Bergizi Gratis Belum Dongk...   \n",
       "2  Hingga 21 Mei, Anggaran Makan Bergizi Gratis S...   \n",
       "3  Korban Keracunan MBG Lebih Besar dari Klaim Pr...   \n",
       "4  Sejumlah Titik Kritis dalam Program MBG, Menur...   \n",
       "\n",
       "                                           sub_judul  \\\n",
       "0  Pemerintah tidak kunjung memperbaiki rasio per...   \n",
       "1  Karena memaksakan Makan Bergizi Gratis pemerin...   \n",
       "2  Hingga 21 Mei 2025 kementerian keuangan telah ...   \n",
       "3  Tim Cek Fakta Tempo menemukan angka keracunan ...   \n",
       "4  Kepala BPOM mendorong keterlibatan instansinya...   \n",
       "\n",
       "                                                 isi      tanggal        jam  \\\n",
       "0  JEBLOKNYApenerimaan pajakpada kuartal pertama ...  26 Mei 2025  06.00 WIB   \n",
       "1  TEMPO.CO,Jakarta-Sekretariat Nasional Forum In...  24 Mei 2025  17.24 WIB   \n",
       "2  TEMPO.CO,Jakarta- Wakil Menteri Keuangan Suaha...  23 Mei 2025  16.11 WIB   \n",
       "3  TEMPO.CO,Jakarta-PRESIDEN Prabowo Subianto men...  23 Mei 2025  14.10 WIB   \n",
       "4  KOMISI IX DPR mendesak Badan Pengawas Obat dan...  23 Mei 2025  10.13 WIB   \n",
       "\n",
       "    kategori                                               link  \\\n",
       "0  Editorial  https://www.tempo.co/kolom/rasio-pajak-penerim...   \n",
       "1     Bisnis  https://www.tempo.co/ekonomi/seknas-fitra-maka...   \n",
       "2     Bisnis  https://www.tempo.co/ekonomi/hingga-21-mei-ang...   \n",
       "3    Politik  https://www.tempo.co/politik/korban-keracunan-...   \n",
       "4    Politik  https://www.tempo.co/politik/sejumlah-titik-kr...   \n",
       "\n",
       "                keyword  \n",
       "0  makan bergizi gratis  \n",
       "1  makan bergizi gratis  \n",
       "2  makan bergizi gratis  \n",
       "3  makan bergizi gratis  \n",
       "4  makan bergizi gratis  "
      ]
     },
     "execution_count": 37,
     "metadata": {},
     "output_type": "execute_result"
    }
   ],
   "source": [
    "df = scrape_tempo_dari_csv(\"./files/tempo_links.csv\")\n",
    "df.head(5)"
   ]
  },
  {
   "cell_type": "markdown",
   "id": "a8879e2c",
   "metadata": {},
   "source": [
    "## Next: Analisis Sentimen"
   ]
  }
 ],
 "metadata": {
  "kernelspec": {
   "display_name": "Python 3",
   "language": "python",
   "name": "python3"
  },
  "language_info": {
   "codemirror_mode": {
    "name": "ipython",
    "version": 3
   },
   "file_extension": ".py",
   "mimetype": "text/x-python",
   "name": "python",
   "nbconvert_exporter": "python",
   "pygments_lexer": "ipython3",
   "version": "3.12.10"
  }
 },
 "nbformat": 4,
 "nbformat_minor": 5
}
