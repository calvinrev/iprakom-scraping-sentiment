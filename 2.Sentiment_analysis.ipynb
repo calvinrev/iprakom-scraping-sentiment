{
 "cells": [
  {
   "cell_type": "code",
   "execution_count": 1,
   "id": "7bc539d3",
   "metadata": {},
   "outputs": [],
   "source": [
    "# !pip install transformers torch -q"
   ]
  },
  {
   "cell_type": "code",
   "execution_count": 2,
   "id": "374e598d",
   "metadata": {},
   "outputs": [
    {
     "data": {
      "text/html": [
       "<div>\n",
       "<style scoped>\n",
       "    .dataframe tbody tr th:only-of-type {\n",
       "        vertical-align: middle;\n",
       "    }\n",
       "\n",
       "    .dataframe tbody tr th {\n",
       "        vertical-align: top;\n",
       "    }\n",
       "\n",
       "    .dataframe thead th {\n",
       "        text-align: right;\n",
       "    }\n",
       "</style>\n",
       "<table border=\"1\" class=\"dataframe\">\n",
       "  <thead>\n",
       "    <tr style=\"text-align: right;\">\n",
       "      <th></th>\n",
       "      <th>judul</th>\n",
       "      <th>isi</th>\n",
       "      <th>hari</th>\n",
       "      <th>tanggal</th>\n",
       "      <th>jam</th>\n",
       "      <th>kategori</th>\n",
       "      <th>link</th>\n",
       "    </tr>\n",
       "  </thead>\n",
       "  <tbody>\n",
       "    <tr>\n",
       "      <th>0</th>\n",
       "      <td>Sulitnya Hapus Data Registrasi Aplikasi Dana</td>\n",
       "      <td>Saya ingin medaftar akun Dana (PT Espay Debit ...</td>\n",
       "      <td>Jumat</td>\n",
       "      <td>23 Mei  2025</td>\n",
       "      <td>15:32 WIB</td>\n",
       "      <td>detikNewsSuara Pembaca</td>\n",
       "      <td>https://news.detik.com/suara-pembaca/d-7928775...</td>\n",
       "    </tr>\n",
       "    <tr>\n",
       "      <th>1</th>\n",
       "      <td>Penawaran investasi PT Rifan Berjangka Tak Ses...</td>\n",
       "      <td>Saya adalah nasabah komoditas berjangka dari P...</td>\n",
       "      <td>Jumat</td>\n",
       "      <td>23 Mei  2025</td>\n",
       "      <td>15:15 WIB</td>\n",
       "      <td>detikNewsSuara Pembaca</td>\n",
       "      <td>https://news.detik.com/suara-pembaca/d-7928735...</td>\n",
       "    </tr>\n",
       "    <tr>\n",
       "      <th>2</th>\n",
       "      <td>Dilindungi Asuransi, Dua Bulan Lebih Perbaikan...</td>\n",
       "      <td>Pada Oktober 2024, saya membeli mobil Ioniq 5 ...</td>\n",
       "      <td>Jumat</td>\n",
       "      <td>23 Mei  2025</td>\n",
       "      <td>14:33 WIB</td>\n",
       "      <td>detikNewsSuara Pembaca</td>\n",
       "      <td>https://news.detik.com/suara-pembaca/d-7928621...</td>\n",
       "    </tr>\n",
       "    <tr>\n",
       "      <th>3</th>\n",
       "      <td>Satu Tahun Menunggu Proses Refund Dana Member ...</td>\n",
       "      <td>Kami merupakan salah satu Mitra Member Loket P...</td>\n",
       "      <td>Jumat</td>\n",
       "      <td>16 Mei  2025</td>\n",
       "      <td>11:41 WIB</td>\n",
       "      <td>detikNewsSuara Pembaca</td>\n",
       "      <td>https://news.detik.com/suara-pembaca/d-7916830...</td>\n",
       "    </tr>\n",
       "    <tr>\n",
       "      <th>4</th>\n",
       "      <td>Diklaim Lebih Kuat dari Kaca dan Acrylic, Sola...</td>\n",
       "      <td>Saya membeli Solartuff dari Impact Pratama Gro...</td>\n",
       "      <td>Selasa</td>\n",
       "      <td>13 Mei  2025</td>\n",
       "      <td>22:57 WIB</td>\n",
       "      <td>detikNewsSuara Pembaca</td>\n",
       "      <td>https://news.detik.com/suara-pembaca/d-7912935...</td>\n",
       "    </tr>\n",
       "  </tbody>\n",
       "</table>\n",
       "</div>"
      ],
      "text/plain": [
       "                                               judul  \\\n",
       "0       Sulitnya Hapus Data Registrasi Aplikasi Dana   \n",
       "1  Penawaran investasi PT Rifan Berjangka Tak Ses...   \n",
       "2  Dilindungi Asuransi, Dua Bulan Lebih Perbaikan...   \n",
       "3  Satu Tahun Menunggu Proses Refund Dana Member ...   \n",
       "4  Diklaim Lebih Kuat dari Kaca dan Acrylic, Sola...   \n",
       "\n",
       "                                                 isi    hari       tanggal  \\\n",
       "0  Saya ingin medaftar akun Dana (PT Espay Debit ...   Jumat  23 Mei  2025   \n",
       "1  Saya adalah nasabah komoditas berjangka dari P...   Jumat  23 Mei  2025   \n",
       "2  Pada Oktober 2024, saya membeli mobil Ioniq 5 ...   Jumat  23 Mei  2025   \n",
       "3  Kami merupakan salah satu Mitra Member Loket P...   Jumat  16 Mei  2025   \n",
       "4  Saya membeli Solartuff dari Impact Pratama Gro...  Selasa  13 Mei  2025   \n",
       "\n",
       "         jam                kategori  \\\n",
       "0  15:32 WIB  detikNewsSuara Pembaca   \n",
       "1  15:15 WIB  detikNewsSuara Pembaca   \n",
       "2  14:33 WIB  detikNewsSuara Pembaca   \n",
       "3  11:41 WIB  detikNewsSuara Pembaca   \n",
       "4  22:57 WIB  detikNewsSuara Pembaca   \n",
       "\n",
       "                                                link  \n",
       "0  https://news.detik.com/suara-pembaca/d-7928775...  \n",
       "1  https://news.detik.com/suara-pembaca/d-7928735...  \n",
       "2  https://news.detik.com/suara-pembaca/d-7928621...  \n",
       "3  https://news.detik.com/suara-pembaca/d-7916830...  \n",
       "4  https://news.detik.com/suara-pembaca/d-7912935...  "
      ]
     },
     "execution_count": 2,
     "metadata": {},
     "output_type": "execute_result"
    }
   ],
   "source": [
    "import pandas as pd\n",
    "from transformers import pipeline\n",
    "\n",
    "df = pd.read_csv('files/detik_semua_artikel.csv')\n",
    "df.head()"
   ]
  },
  {
   "cell_type": "code",
   "execution_count": 3,
   "id": "8b14c075",
   "metadata": {},
   "outputs": [
    {
     "name": "stderr",
     "output_type": "stream",
     "text": [
      "Device set to use mps:0\n"
     ]
    },
    {
     "data": {
      "text/plain": [
       "<transformers.pipelines.text_classification.TextClassificationPipeline at 0x16c4328c0>"
      ]
     },
     "execution_count": 3,
     "metadata": {},
     "output_type": "execute_result"
    }
   ],
   "source": [
    "# Gunakan model sentiment Bahasa Indonesia dari HuggingFace\n",
    "classifier = pipeline(\"sentiment-analysis\", model=\"w11wo/indonesian-roberta-base-sentiment-classifier\")\n",
    "classifier"
   ]
  },
  {
   "cell_type": "code",
   "execution_count": 4,
   "id": "dd913138",
   "metadata": {},
   "outputs": [
    {
     "data": {
      "text/plain": [
       "[{'label': 'negative', 'score': 0.6486492156982422}]"
      ]
     },
     "execution_count": 4,
     "metadata": {},
     "output_type": "execute_result"
    }
   ],
   "source": [
    "# TESTING\n",
    "kalimat = \"Pemerintah menaikkan harga BBM dan menuai banyak protes dari masyarakat.\"\n",
    "hasil = classifier(kalimat)\n",
    "hasil"
   ]
  },
  {
   "cell_type": "code",
   "execution_count": null,
   "id": "4a5de091",
   "metadata": {},
   "outputs": [
    {
     "data": {
      "text/html": [
       "<div>\n",
       "<style scoped>\n",
       "    .dataframe tbody tr th:only-of-type {\n",
       "        vertical-align: middle;\n",
       "    }\n",
       "\n",
       "    .dataframe tbody tr th {\n",
       "        vertical-align: top;\n",
       "    }\n",
       "\n",
       "    .dataframe thead th {\n",
       "        text-align: right;\n",
       "    }\n",
       "</style>\n",
       "<table border=\"1\" class=\"dataframe\">\n",
       "  <thead>\n",
       "    <tr style=\"text-align: right;\">\n",
       "      <th></th>\n",
       "      <th>judul</th>\n",
       "      <th>isi</th>\n",
       "      <th>hari</th>\n",
       "      <th>tanggal</th>\n",
       "      <th>jam</th>\n",
       "      <th>kategori</th>\n",
       "      <th>link</th>\n",
       "      <th>sentimen</th>\n",
       "    </tr>\n",
       "  </thead>\n",
       "  <tbody>\n",
       "    <tr>\n",
       "      <th>0</th>\n",
       "      <td>Sulitnya Hapus Data Registrasi Aplikasi Dana</td>\n",
       "      <td>Saya ingin medaftar akun Dana (PT Espay Debit ...</td>\n",
       "      <td>Jumat</td>\n",
       "      <td>23 Mei  2025</td>\n",
       "      <td>15:32 WIB</td>\n",
       "      <td>detikNewsSuara Pembaca</td>\n",
       "      <td>https://news.detik.com/suara-pembaca/d-7928775...</td>\n",
       "      <td>negative</td>\n",
       "    </tr>\n",
       "    <tr>\n",
       "      <th>1</th>\n",
       "      <td>Penawaran investasi PT Rifan Berjangka Tak Ses...</td>\n",
       "      <td>Saya adalah nasabah komoditas berjangka dari P...</td>\n",
       "      <td>Jumat</td>\n",
       "      <td>23 Mei  2025</td>\n",
       "      <td>15:15 WIB</td>\n",
       "      <td>detikNewsSuara Pembaca</td>\n",
       "      <td>https://news.detik.com/suara-pembaca/d-7928735...</td>\n",
       "      <td>negative</td>\n",
       "    </tr>\n",
       "    <tr>\n",
       "      <th>2</th>\n",
       "      <td>Dilindungi Asuransi, Dua Bulan Lebih Perbaikan...</td>\n",
       "      <td>Pada Oktober 2024, saya membeli mobil Ioniq 5 ...</td>\n",
       "      <td>Jumat</td>\n",
       "      <td>23 Mei  2025</td>\n",
       "      <td>14:33 WIB</td>\n",
       "      <td>detikNewsSuara Pembaca</td>\n",
       "      <td>https://news.detik.com/suara-pembaca/d-7928621...</td>\n",
       "      <td>negative</td>\n",
       "    </tr>\n",
       "    <tr>\n",
       "      <th>3</th>\n",
       "      <td>Satu Tahun Menunggu Proses Refund Dana Member ...</td>\n",
       "      <td>Kami merupakan salah satu Mitra Member Loket P...</td>\n",
       "      <td>Jumat</td>\n",
       "      <td>16 Mei  2025</td>\n",
       "      <td>11:41 WIB</td>\n",
       "      <td>detikNewsSuara Pembaca</td>\n",
       "      <td>https://news.detik.com/suara-pembaca/d-7916830...</td>\n",
       "      <td>neutral</td>\n",
       "    </tr>\n",
       "    <tr>\n",
       "      <th>4</th>\n",
       "      <td>Diklaim Lebih Kuat dari Kaca dan Acrylic, Sola...</td>\n",
       "      <td>Saya membeli Solartuff dari Impact Pratama Gro...</td>\n",
       "      <td>Selasa</td>\n",
       "      <td>13 Mei  2025</td>\n",
       "      <td>22:57 WIB</td>\n",
       "      <td>detikNewsSuara Pembaca</td>\n",
       "      <td>https://news.detik.com/suara-pembaca/d-7912935...</td>\n",
       "      <td>positive</td>\n",
       "    </tr>\n",
       "  </tbody>\n",
       "</table>\n",
       "</div>"
      ],
      "text/plain": [
       "                                               judul  \\\n",
       "0       Sulitnya Hapus Data Registrasi Aplikasi Dana   \n",
       "1  Penawaran investasi PT Rifan Berjangka Tak Ses...   \n",
       "2  Dilindungi Asuransi, Dua Bulan Lebih Perbaikan...   \n",
       "3  Satu Tahun Menunggu Proses Refund Dana Member ...   \n",
       "4  Diklaim Lebih Kuat dari Kaca dan Acrylic, Sola...   \n",
       "\n",
       "                                                 isi    hari       tanggal  \\\n",
       "0  Saya ingin medaftar akun Dana (PT Espay Debit ...   Jumat  23 Mei  2025   \n",
       "1  Saya adalah nasabah komoditas berjangka dari P...   Jumat  23 Mei  2025   \n",
       "2  Pada Oktober 2024, saya membeli mobil Ioniq 5 ...   Jumat  23 Mei  2025   \n",
       "3  Kami merupakan salah satu Mitra Member Loket P...   Jumat  16 Mei  2025   \n",
       "4  Saya membeli Solartuff dari Impact Pratama Gro...  Selasa  13 Mei  2025   \n",
       "\n",
       "         jam                kategori  \\\n",
       "0  15:32 WIB  detikNewsSuara Pembaca   \n",
       "1  15:15 WIB  detikNewsSuara Pembaca   \n",
       "2  14:33 WIB  detikNewsSuara Pembaca   \n",
       "3  11:41 WIB  detikNewsSuara Pembaca   \n",
       "4  22:57 WIB  detikNewsSuara Pembaca   \n",
       "\n",
       "                                                link  sentimen  \n",
       "0  https://news.detik.com/suara-pembaca/d-7928775...  negative  \n",
       "1  https://news.detik.com/suara-pembaca/d-7928735...  negative  \n",
       "2  https://news.detik.com/suara-pembaca/d-7928621...  negative  \n",
       "3  https://news.detik.com/suara-pembaca/d-7916830...   neutral  \n",
       "4  https://news.detik.com/suara-pembaca/d-7912935...  positive  "
      ]
     },
     "execution_count": 5,
     "metadata": {},
     "output_type": "execute_result"
    }
   ],
   "source": [
    "# Terapkan sentiment analysis pada kolom teks\n",
    "df['sentimen'] = df['judul'].apply(lambda x: classifier(x[:512])[0]['label'])  # batas input 512 token\n",
    "df.head()"
   ]
  },
  {
   "cell_type": "code",
   "execution_count": 6,
   "id": "05a0c8f0",
   "metadata": {},
   "outputs": [
    {
     "data": {
      "text/plain": [
       "sentimen\n",
       "negative    250\n",
       "neutral     734\n",
       "positive     16\n",
       "Name: count, dtype: int64"
      ]
     },
     "execution_count": 6,
     "metadata": {},
     "output_type": "execute_result"
    }
   ],
   "source": [
    "df.sentimen.value_counts().sort_index()"
   ]
  }
 ],
 "metadata": {
  "kernelspec": {
   "display_name": "data",
   "language": "python",
   "name": "python3"
  },
  "language_info": {
   "codemirror_mode": {
    "name": "ipython",
    "version": 3
   },
   "file_extension": ".py",
   "mimetype": "text/x-python",
   "name": "python",
   "nbconvert_exporter": "python",
   "pygments_lexer": "ipython3",
   "version": "3.10.16"
  }
 },
 "nbformat": 4,
 "nbformat_minor": 5
}
