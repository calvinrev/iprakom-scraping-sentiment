{
 "cells": [
  {
   "cell_type": "markdown",
   "id": "149d0a0d",
   "metadata": {},
   "source": [
    "## 0. Requirement"
   ]
  },
  {
   "cell_type": "code",
   "execution_count": null,
   "id": "8999cd0a",
   "metadata": {},
   "outputs": [],
   "source": [
    "## jalankan ini dahulu sebelum running\n",
    "%pip install -qq -r requirements.txt"
   ]
  },
  {
   "cell_type": "code",
   "execution_count": null,
   "id": "3acacfbb",
   "metadata": {},
   "outputs": [],
   "source": [
    "import requests\n",
    "import pandas as pd\n",
    "import numpy as np\n",
    "from bs4 import BeautifulSoup"
   ]
  },
  {
   "cell_type": "markdown",
   "id": "c4f77b22",
   "metadata": {},
   "source": [
    "## 1. Pengenalan"
   ]
  },
  {
   "cell_type": "code",
   "execution_count": null,
   "id": "504bbc93",
   "metadata": {},
   "outputs": [],
   "source": [
    "from bs4 import BeautifulSoup\n",
    "with open(\"./files/latihan.html\") as f:\n",
    "    soup = BeautifulSoup(f, 'html.parser')"
   ]
  },
  {
   "cell_type": "code",
   "execution_count": null,
   "id": "e582ad08",
   "metadata": {},
   "outputs": [],
   "source": [
    "soup"
   ]
  },
  {
   "cell_type": "code",
   "execution_count": null,
   "id": "ee0c8af3",
   "metadata": {},
   "outputs": [],
   "source": [
    "print(soup.prettify())"
   ]
  },
  {
   "cell_type": "code",
   "execution_count": null,
   "id": "69175170",
   "metadata": {},
   "outputs": [],
   "source": [
    "soup.find('title')"
   ]
  },
  {
   "cell_type": "code",
   "execution_count": null,
   "id": "1f6b0e2d",
   "metadata": {},
   "outputs": [],
   "source": [
    "soup.find('title').get_text()"
   ]
  },
  {
   "cell_type": "code",
   "execution_count": null,
   "id": "46237036",
   "metadata": {},
   "outputs": [],
   "source": [
    "soup.find('p').get_text(strip=True)"
   ]
  },
  {
   "cell_type": "code",
   "execution_count": null,
   "id": "98b6b10e",
   "metadata": {},
   "outputs": [],
   "source": [
    "soup.find('a').get_text()"
   ]
  },
  {
   "cell_type": "code",
   "execution_count": null,
   "id": "c4780bff",
   "metadata": {},
   "outputs": [],
   "source": [
    "soup.find('a', href=True)"
   ]
  },
  {
   "cell_type": "code",
   "execution_count": null,
   "id": "017fd58b",
   "metadata": {},
   "outputs": [],
   "source": [
    "soup.find('a', href=True).get('href')"
   ]
  },
  {
   "cell_type": "markdown",
   "id": "48094475",
   "metadata": {},
   "source": [
    "## 2. Let's dive into the real case"
   ]
  },
  {
   "cell_type": "code",
   "execution_count": null,
   "id": "0c4a3eac",
   "metadata": {},
   "outputs": [],
   "source": [
    "## check if there is a response, if it's 200, we are good to go, if only it's ethical\n",
    "## check robots.txt\n",
    "\n",
    "s = requests.Session()\n",
    "url = 'https://google.com/maps'\n",
    "headers = {\n",
    "    'User-Agent': 'Mozilla/5.0 (Windows NT 10.0; Win64; x64) AppleWebKit/537.36 (KHTML, like Gecko) Chrome/125.0.0.0 Safari/537.36'\n",
    "}\n",
    "response = s.get(url, headers=headers, timeout=60)\n",
    "print(response.status_code)"
   ]
  },
  {
   "cell_type": "code",
   "execution_count": null,
   "id": "dcb59878",
   "metadata": {},
   "outputs": [],
   "source": [
    "## check robots.txt\n",
    "## check if there is a response, if it's 200, we are good to go\n",
    "s = requests.Session()\n",
    "url = 'https://news.detik.com/'\n",
    "headers = {\n",
    "    'User-Agent': 'Mozilla/5.0 (Windows NT 10.0; Win64; x64) AppleWebKit/537.36 (KHTML, like Gecko) Chrome/125.0.0.0 Safari/537.36'\n",
    "}\n",
    "response = s.get(url, headers=headers, timeout=60)\n",
    "print(response.status_code)"
   ]
  },
  {
   "cell_type": "markdown",
   "id": "40c9ad34",
   "metadata": {},
   "source": [
    "### CSS Selector"
   ]
  },
  {
   "cell_type": "code",
   "execution_count": null,
   "id": "d8870699",
   "metadata": {},
   "outputs": [],
   "source": [
    "soup = BeautifulSoup(response.content, 'html.parser')"
   ]
  },
  {
   "cell_type": "code",
   "execution_count": null,
   "id": "7ef98c29",
   "metadata": {},
   "outputs": [],
   "source": [
    "print(soup.prettify())"
   ]
  },
  {
   "cell_type": "code",
   "execution_count": null,
   "id": "66e22224",
   "metadata": {},
   "outputs": [],
   "source": [
    "soup.find('div', class_= 'replace_title')"
   ]
  },
  {
   "cell_type": "code",
   "execution_count": null,
   "id": "d59249b4",
   "metadata": {},
   "outputs": [],
   "source": [
    "len(soup.find_all('div', class_= 'replace_title'))"
   ]
  },
  {
   "cell_type": "code",
   "execution_count": null,
   "id": "20977150",
   "metadata": {},
   "outputs": [],
   "source": [
    "soup.find_all('div', class_= 'replace_title').get_text(strip=True) #error, karena bentuknya list"
   ]
  },
  {
   "cell_type": "code",
   "execution_count": null,
   "id": "daab9864",
   "metadata": {},
   "outputs": [],
   "source": [
    "soup.find_all('div', class_= 'replace_title')[2].get_text(strip=True)"
   ]
  },
  {
   "cell_type": "code",
   "execution_count": null,
   "id": "5c1d930a",
   "metadata": {},
   "outputs": [],
   "source": [
    "titles = soup.find_all('div', class_= 'replace_title')\n",
    "for title in titles:\n",
    "    print(title.get_text(strip=True), \"\\n\")"
   ]
  },
  {
   "cell_type": "code",
   "execution_count": null,
   "id": "04a3f3e4",
   "metadata": {},
   "outputs": [],
   "source": [
    "# mengambil 3 fitur: judul, tanggal, dan link berita\n",
    "print(soup.find('div', class_= 'section nhl').prettify())"
   ]
  },
  {
   "cell_type": "code",
   "execution_count": null,
   "id": "5f80b5d7",
   "metadata": {},
   "outputs": [],
   "source": [
    "section = soup.find('div', class_= 'section nhl')\n",
    "print(section.find_all('div', class_= 'media__text')[0].prettify())"
   ]
  },
  {
   "cell_type": "code",
   "execution_count": null,
   "id": "89baef38",
   "metadata": {},
   "outputs": [],
   "source": [
    "#judul, tanggal, link\n",
    "beritas = section.find_all('div', class_= 'media__text')\n",
    "\n",
    "for berita in beritas:\n",
    "    judul = berita.find('h3', class_='media__title').get_text(strip=True)\n",
    "    tanggal = berita.find('div', class_='media__date').get_text(strip=True)\n",
    "    link = berita.find('a', href=True).get('href')\n",
    "    print(f\"Judul: {judul}\\nTanggal: {tanggal}\\nLink: {link}\\n\")        "
   ]
  },
  {
   "cell_type": "code",
   "execution_count": null,
   "id": "5dd91195",
   "metadata": {},
   "outputs": [],
   "source": [
    "beritas = section.find_all('div', class_= 'media__text')\n",
    "hasil = []\n",
    "\n",
    "for berita in beritas:\n",
    "    judul = berita.find('h3', class_='media__title').get_text(strip=True)\n",
    "    tanggal = berita.find('div', class_='media__date').get_text(strip=True)\n",
    "    link = berita.find('a', href=True).get('href')\n",
    "    hasil.append({\n",
    "        \"judul_berita\": judul,\n",
    "        \"waktu_upload\": tanggal,\n",
    "        \"link_berita\": link\n",
    "\n",
    "    })\n",
    "    \n",
    "df = pd.DataFrame(hasil)\n",
    "df.info()"
   ]
  },
  {
   "cell_type": "code",
   "execution_count": null,
   "id": "c0243617",
   "metadata": {},
   "outputs": [],
   "source": [
    "df.head()"
   ]
  },
  {
   "cell_type": "code",
   "execution_count": null,
   "id": "e7131104",
   "metadata": {},
   "outputs": [],
   "source": [
    "df.to_csv(\"./files/hasil_scraping_awal.csv\")"
   ]
  },
  {
   "cell_type": "markdown",
   "id": "f5948e11",
   "metadata": {},
   "source": [
    "### Xpath"
   ]
  },
  {
   "cell_type": "code",
   "execution_count": null,
   "id": "d90a94d8",
   "metadata": {},
   "outputs": [],
   "source": [
    "import requests\n",
    "from lxml import html\n",
    "\n",
    "url = \"https://news.detik.com/\"\n",
    "response = requests.get(url)\n",
    "tree = html.fromstring(response.content)"
   ]
  },
  {
   "cell_type": "code",
   "execution_count": null,
   "id": "419eecf9",
   "metadata": {},
   "outputs": [],
   "source": [
    "tree.xpath('//nav[@class=\"navbar-first\"]/ul[@class=\"nav font-heading\"]/li/a/text()') # menu navigasi"
   ]
  },
  {
   "cell_type": "code",
   "execution_count": null,
   "id": "c0446ecd",
   "metadata": {},
   "outputs": [],
   "source": [
    "tree.xpath(\"/html/body/div[5]/div[2]/nav/ul/li/a/text()\")  # menu navigasi copy xpath from browser"
   ]
  },
  {
   "cell_type": "code",
   "execution_count": null,
   "id": "5b1a17f7",
   "metadata": {},
   "outputs": [],
   "source": [
    "tree.xpath(\"/html/body/div[5]/div[2]/nav/ul/li[2]/a/text()\")  # menu navigasi kedua"
   ]
  },
  {
   "cell_type": "markdown",
   "id": "c00ed1d6",
   "metadata": {},
   "source": [
    "## 3. Exercise at Home: Coba sesuaikan script berikut agar bisa jalan seperti bagian CSS Selector"
   ]
  },
  {
   "cell_type": "code",
   "execution_count": null,
   "id": "664caea3",
   "metadata": {},
   "outputs": [],
   "source": [
    "import requests\n",
    "from lxml import html\n",
    "import pandas as pd\n",
    "\n",
    "url = \"https://news.detik.com/\"\n",
    "response = requests.get(url)\n",
    "tree = html.fromstring(response.content)\n",
    "\n",
    "beritas = tree.xpath('//div[contains(@class, \"media__text\")]')\n",
    "\n",
    "hasil = []\n",
    "for berita in beritas:\n",
    "        title_raw = berita.xpath('//h3[@class=\"media__title\"]/a/text()')\n",
    "        title = [t.strip() for t in title_raw if t.strip()] if title else \"\"\n",
    "\n",
    "        upload_raw = berita.xpath('.//div[@class, \"media__date\"]/span//text()')\n",
    "        upload = upload_raw[0].strip() if upload_raw else \"\"\n",
    "\n",
    "        link_raw = berita.xpath('.//h3[@class, \"media__title\"]/a/@href')\n",
    "        link = link_raw[0].strip() if link_raw else \"\"\n",
    "        \n",
    "        # Skip jika semua kosong\n",
    "        if not title and not upload and not link:\n",
    "            continue\n",
    "\n",
    "        hasil.append({\n",
    "            \"judul_berita\": title,\n",
    "            \"waktu_upload\": upload,\n",
    "            \"tautan_berita\": link\n",
    "        })\n",
    "\n",
    "df = pd.DataFrame(hasil)\n",
    "df.info()"
   ]
  }
 ],
 "metadata": {
  "kernelspec": {
   "display_name": "Python 3",
   "language": "python",
   "name": "python3"
  },
  "language_info": {
   "codemirror_mode": {
    "name": "ipython",
    "version": 3
   },
   "file_extension": ".py",
   "mimetype": "text/x-python",
   "name": "python",
   "nbconvert_exporter": "python",
   "pygments_lexer": "ipython3",
   "version": "3.12.10"
  }
 },
 "nbformat": 4,
 "nbformat_minor": 5
}
